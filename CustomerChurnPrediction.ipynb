{
 "cells": [
  {
   "cell_type": "markdown",
   "id": "06be5f62",
   "metadata": {},
   "source": [
    "# Import all required libraries"
   ]
  },
  {
   "cell_type": "code",
   "execution_count": 1,
   "id": "e6662e45",
   "metadata": {},
   "outputs": [],
   "source": [
    "import pandas as pd\n",
    "import matplotlib.pyplot as plt\n",
    "%matplotlib inline\n",
    "import numpy as np\n",
    "import seaborn as sns\n",
    "import warnings\n",
    "warnings.filterwarnings(\"ignore\")"
   ]
  },
  {
   "cell_type": "markdown",
   "id": "b3b7fd37",
   "metadata": {},
   "source": [
    "# Data Exploration"
   ]
  },
  {
   "cell_type": "code",
   "execution_count": 2,
   "id": "19f4e945",
   "metadata": {},
   "outputs": [
    {
     "data": {
      "text/html": [
       "<div>\n",
       "<style scoped>\n",
       "    .dataframe tbody tr th:only-of-type {\n",
       "        vertical-align: middle;\n",
       "    }\n",
       "\n",
       "    .dataframe tbody tr th {\n",
       "        vertical-align: top;\n",
       "    }\n",
       "\n",
       "    .dataframe thead th {\n",
       "        text-align: right;\n",
       "    }\n",
       "</style>\n",
       "<table border=\"1\" class=\"dataframe\">\n",
       "  <thead>\n",
       "    <tr style=\"text-align: right;\">\n",
       "      <th></th>\n",
       "      <th>customerID</th>\n",
       "      <th>gender</th>\n",
       "      <th>SeniorCitizen</th>\n",
       "      <th>Partner</th>\n",
       "      <th>Dependents</th>\n",
       "      <th>tenure</th>\n",
       "      <th>PhoneService</th>\n",
       "      <th>MultipleLines</th>\n",
       "      <th>InternetService</th>\n",
       "      <th>OnlineSecurity</th>\n",
       "      <th>...</th>\n",
       "      <th>DeviceProtection</th>\n",
       "      <th>TechSupport</th>\n",
       "      <th>StreamingTV</th>\n",
       "      <th>StreamingMovies</th>\n",
       "      <th>Contract</th>\n",
       "      <th>PaperlessBilling</th>\n",
       "      <th>PaymentMethod</th>\n",
       "      <th>MonthlyCharges</th>\n",
       "      <th>TotalCharges</th>\n",
       "      <th>Churn</th>\n",
       "    </tr>\n",
       "  </thead>\n",
       "  <tbody>\n",
       "    <tr>\n",
       "      <th>0</th>\n",
       "      <td>7590-VHVEG</td>\n",
       "      <td>Female</td>\n",
       "      <td>0</td>\n",
       "      <td>Yes</td>\n",
       "      <td>No</td>\n",
       "      <td>1</td>\n",
       "      <td>No</td>\n",
       "      <td>No phone service</td>\n",
       "      <td>DSL</td>\n",
       "      <td>No</td>\n",
       "      <td>...</td>\n",
       "      <td>No</td>\n",
       "      <td>No</td>\n",
       "      <td>No</td>\n",
       "      <td>No</td>\n",
       "      <td>Month-to-month</td>\n",
       "      <td>Yes</td>\n",
       "      <td>Electronic check</td>\n",
       "      <td>29.85</td>\n",
       "      <td>29.85</td>\n",
       "      <td>No</td>\n",
       "    </tr>\n",
       "    <tr>\n",
       "      <th>1</th>\n",
       "      <td>5575-GNVDE</td>\n",
       "      <td>Male</td>\n",
       "      <td>0</td>\n",
       "      <td>No</td>\n",
       "      <td>No</td>\n",
       "      <td>34</td>\n",
       "      <td>Yes</td>\n",
       "      <td>No</td>\n",
       "      <td>DSL</td>\n",
       "      <td>Yes</td>\n",
       "      <td>...</td>\n",
       "      <td>Yes</td>\n",
       "      <td>No</td>\n",
       "      <td>No</td>\n",
       "      <td>No</td>\n",
       "      <td>One year</td>\n",
       "      <td>No</td>\n",
       "      <td>Mailed check</td>\n",
       "      <td>56.95</td>\n",
       "      <td>1889.5</td>\n",
       "      <td>No</td>\n",
       "    </tr>\n",
       "    <tr>\n",
       "      <th>2</th>\n",
       "      <td>3668-QPYBK</td>\n",
       "      <td>Male</td>\n",
       "      <td>0</td>\n",
       "      <td>No</td>\n",
       "      <td>No</td>\n",
       "      <td>2</td>\n",
       "      <td>Yes</td>\n",
       "      <td>No</td>\n",
       "      <td>DSL</td>\n",
       "      <td>Yes</td>\n",
       "      <td>...</td>\n",
       "      <td>No</td>\n",
       "      <td>No</td>\n",
       "      <td>No</td>\n",
       "      <td>No</td>\n",
       "      <td>Month-to-month</td>\n",
       "      <td>Yes</td>\n",
       "      <td>Mailed check</td>\n",
       "      <td>53.85</td>\n",
       "      <td>108.15</td>\n",
       "      <td>Yes</td>\n",
       "    </tr>\n",
       "    <tr>\n",
       "      <th>3</th>\n",
       "      <td>7795-CFOCW</td>\n",
       "      <td>Male</td>\n",
       "      <td>0</td>\n",
       "      <td>No</td>\n",
       "      <td>No</td>\n",
       "      <td>45</td>\n",
       "      <td>No</td>\n",
       "      <td>No phone service</td>\n",
       "      <td>DSL</td>\n",
       "      <td>Yes</td>\n",
       "      <td>...</td>\n",
       "      <td>Yes</td>\n",
       "      <td>Yes</td>\n",
       "      <td>No</td>\n",
       "      <td>No</td>\n",
       "      <td>One year</td>\n",
       "      <td>No</td>\n",
       "      <td>Bank transfer (automatic)</td>\n",
       "      <td>42.30</td>\n",
       "      <td>1840.75</td>\n",
       "      <td>No</td>\n",
       "    </tr>\n",
       "    <tr>\n",
       "      <th>4</th>\n",
       "      <td>9237-HQITU</td>\n",
       "      <td>Female</td>\n",
       "      <td>0</td>\n",
       "      <td>No</td>\n",
       "      <td>No</td>\n",
       "      <td>2</td>\n",
       "      <td>Yes</td>\n",
       "      <td>No</td>\n",
       "      <td>Fiber optic</td>\n",
       "      <td>No</td>\n",
       "      <td>...</td>\n",
       "      <td>No</td>\n",
       "      <td>No</td>\n",
       "      <td>No</td>\n",
       "      <td>No</td>\n",
       "      <td>Month-to-month</td>\n",
       "      <td>Yes</td>\n",
       "      <td>Electronic check</td>\n",
       "      <td>70.70</td>\n",
       "      <td>151.65</td>\n",
       "      <td>Yes</td>\n",
       "    </tr>\n",
       "    <tr>\n",
       "      <th>...</th>\n",
       "      <td>...</td>\n",
       "      <td>...</td>\n",
       "      <td>...</td>\n",
       "      <td>...</td>\n",
       "      <td>...</td>\n",
       "      <td>...</td>\n",
       "      <td>...</td>\n",
       "      <td>...</td>\n",
       "      <td>...</td>\n",
       "      <td>...</td>\n",
       "      <td>...</td>\n",
       "      <td>...</td>\n",
       "      <td>...</td>\n",
       "      <td>...</td>\n",
       "      <td>...</td>\n",
       "      <td>...</td>\n",
       "      <td>...</td>\n",
       "      <td>...</td>\n",
       "      <td>...</td>\n",
       "      <td>...</td>\n",
       "      <td>...</td>\n",
       "    </tr>\n",
       "    <tr>\n",
       "      <th>7038</th>\n",
       "      <td>6840-RESVB</td>\n",
       "      <td>Male</td>\n",
       "      <td>0</td>\n",
       "      <td>Yes</td>\n",
       "      <td>Yes</td>\n",
       "      <td>24</td>\n",
       "      <td>Yes</td>\n",
       "      <td>Yes</td>\n",
       "      <td>DSL</td>\n",
       "      <td>Yes</td>\n",
       "      <td>...</td>\n",
       "      <td>Yes</td>\n",
       "      <td>Yes</td>\n",
       "      <td>Yes</td>\n",
       "      <td>Yes</td>\n",
       "      <td>One year</td>\n",
       "      <td>Yes</td>\n",
       "      <td>Mailed check</td>\n",
       "      <td>84.80</td>\n",
       "      <td>1990.5</td>\n",
       "      <td>No</td>\n",
       "    </tr>\n",
       "    <tr>\n",
       "      <th>7039</th>\n",
       "      <td>2234-XADUH</td>\n",
       "      <td>Female</td>\n",
       "      <td>0</td>\n",
       "      <td>Yes</td>\n",
       "      <td>Yes</td>\n",
       "      <td>72</td>\n",
       "      <td>Yes</td>\n",
       "      <td>Yes</td>\n",
       "      <td>Fiber optic</td>\n",
       "      <td>No</td>\n",
       "      <td>...</td>\n",
       "      <td>Yes</td>\n",
       "      <td>No</td>\n",
       "      <td>Yes</td>\n",
       "      <td>Yes</td>\n",
       "      <td>One year</td>\n",
       "      <td>Yes</td>\n",
       "      <td>Credit card (automatic)</td>\n",
       "      <td>103.20</td>\n",
       "      <td>7362.9</td>\n",
       "      <td>No</td>\n",
       "    </tr>\n",
       "    <tr>\n",
       "      <th>7040</th>\n",
       "      <td>4801-JZAZL</td>\n",
       "      <td>Female</td>\n",
       "      <td>0</td>\n",
       "      <td>Yes</td>\n",
       "      <td>Yes</td>\n",
       "      <td>11</td>\n",
       "      <td>No</td>\n",
       "      <td>No phone service</td>\n",
       "      <td>DSL</td>\n",
       "      <td>Yes</td>\n",
       "      <td>...</td>\n",
       "      <td>No</td>\n",
       "      <td>No</td>\n",
       "      <td>No</td>\n",
       "      <td>No</td>\n",
       "      <td>Month-to-month</td>\n",
       "      <td>Yes</td>\n",
       "      <td>Electronic check</td>\n",
       "      <td>29.60</td>\n",
       "      <td>346.45</td>\n",
       "      <td>No</td>\n",
       "    </tr>\n",
       "    <tr>\n",
       "      <th>7041</th>\n",
       "      <td>8361-LTMKD</td>\n",
       "      <td>Male</td>\n",
       "      <td>1</td>\n",
       "      <td>Yes</td>\n",
       "      <td>No</td>\n",
       "      <td>4</td>\n",
       "      <td>Yes</td>\n",
       "      <td>Yes</td>\n",
       "      <td>Fiber optic</td>\n",
       "      <td>No</td>\n",
       "      <td>...</td>\n",
       "      <td>No</td>\n",
       "      <td>No</td>\n",
       "      <td>No</td>\n",
       "      <td>No</td>\n",
       "      <td>Month-to-month</td>\n",
       "      <td>Yes</td>\n",
       "      <td>Mailed check</td>\n",
       "      <td>74.40</td>\n",
       "      <td>306.6</td>\n",
       "      <td>Yes</td>\n",
       "    </tr>\n",
       "    <tr>\n",
       "      <th>7042</th>\n",
       "      <td>3186-AJIEK</td>\n",
       "      <td>Male</td>\n",
       "      <td>0</td>\n",
       "      <td>No</td>\n",
       "      <td>No</td>\n",
       "      <td>66</td>\n",
       "      <td>Yes</td>\n",
       "      <td>No</td>\n",
       "      <td>Fiber optic</td>\n",
       "      <td>Yes</td>\n",
       "      <td>...</td>\n",
       "      <td>Yes</td>\n",
       "      <td>Yes</td>\n",
       "      <td>Yes</td>\n",
       "      <td>Yes</td>\n",
       "      <td>Two year</td>\n",
       "      <td>Yes</td>\n",
       "      <td>Bank transfer (automatic)</td>\n",
       "      <td>105.65</td>\n",
       "      <td>6844.5</td>\n",
       "      <td>No</td>\n",
       "    </tr>\n",
       "  </tbody>\n",
       "</table>\n",
       "<p>7043 rows × 21 columns</p>\n",
       "</div>"
      ],
      "text/plain": [
       "      customerID  gender  SeniorCitizen Partner Dependents  tenure  \\\n",
       "0     7590-VHVEG  Female              0     Yes         No       1   \n",
       "1     5575-GNVDE    Male              0      No         No      34   \n",
       "2     3668-QPYBK    Male              0      No         No       2   \n",
       "3     7795-CFOCW    Male              0      No         No      45   \n",
       "4     9237-HQITU  Female              0      No         No       2   \n",
       "...          ...     ...            ...     ...        ...     ...   \n",
       "7038  6840-RESVB    Male              0     Yes        Yes      24   \n",
       "7039  2234-XADUH  Female              0     Yes        Yes      72   \n",
       "7040  4801-JZAZL  Female              0     Yes        Yes      11   \n",
       "7041  8361-LTMKD    Male              1     Yes         No       4   \n",
       "7042  3186-AJIEK    Male              0      No         No      66   \n",
       "\n",
       "     PhoneService     MultipleLines InternetService OnlineSecurity  ...  \\\n",
       "0              No  No phone service             DSL             No  ...   \n",
       "1             Yes                No             DSL            Yes  ...   \n",
       "2             Yes                No             DSL            Yes  ...   \n",
       "3              No  No phone service             DSL            Yes  ...   \n",
       "4             Yes                No     Fiber optic             No  ...   \n",
       "...           ...               ...             ...            ...  ...   \n",
       "7038          Yes               Yes             DSL            Yes  ...   \n",
       "7039          Yes               Yes     Fiber optic             No  ...   \n",
       "7040           No  No phone service             DSL            Yes  ...   \n",
       "7041          Yes               Yes     Fiber optic             No  ...   \n",
       "7042          Yes                No     Fiber optic            Yes  ...   \n",
       "\n",
       "     DeviceProtection TechSupport StreamingTV StreamingMovies        Contract  \\\n",
       "0                  No          No          No              No  Month-to-month   \n",
       "1                 Yes          No          No              No        One year   \n",
       "2                  No          No          No              No  Month-to-month   \n",
       "3                 Yes         Yes          No              No        One year   \n",
       "4                  No          No          No              No  Month-to-month   \n",
       "...               ...         ...         ...             ...             ...   \n",
       "7038              Yes         Yes         Yes             Yes        One year   \n",
       "7039              Yes          No         Yes             Yes        One year   \n",
       "7040               No          No          No              No  Month-to-month   \n",
       "7041               No          No          No              No  Month-to-month   \n",
       "7042              Yes         Yes         Yes             Yes        Two year   \n",
       "\n",
       "     PaperlessBilling              PaymentMethod MonthlyCharges  TotalCharges  \\\n",
       "0                 Yes           Electronic check          29.85         29.85   \n",
       "1                  No               Mailed check          56.95        1889.5   \n",
       "2                 Yes               Mailed check          53.85        108.15   \n",
       "3                  No  Bank transfer (automatic)          42.30       1840.75   \n",
       "4                 Yes           Electronic check          70.70        151.65   \n",
       "...               ...                        ...            ...           ...   \n",
       "7038              Yes               Mailed check          84.80        1990.5   \n",
       "7039              Yes    Credit card (automatic)         103.20        7362.9   \n",
       "7040              Yes           Electronic check          29.60        346.45   \n",
       "7041              Yes               Mailed check          74.40         306.6   \n",
       "7042              Yes  Bank transfer (automatic)         105.65        6844.5   \n",
       "\n",
       "     Churn  \n",
       "0       No  \n",
       "1       No  \n",
       "2      Yes  \n",
       "3       No  \n",
       "4      Yes  \n",
       "...    ...  \n",
       "7038    No  \n",
       "7039    No  \n",
       "7040    No  \n",
       "7041   Yes  \n",
       "7042    No  \n",
       "\n",
       "[7043 rows x 21 columns]"
      ]
     },
     "execution_count": 2,
     "metadata": {},
     "output_type": "execute_result"
    }
   ],
   "source": [
    "df = pd.read_csv('dataset.csv')\n",
    "df"
   ]
  },
  {
   "cell_type": "code",
   "execution_count": 3,
   "id": "fd4bf9d6",
   "metadata": {},
   "outputs": [
    {
     "name": "stdout",
     "output_type": "stream",
     "text": [
      "<class 'pandas.core.frame.DataFrame'>\n",
      "RangeIndex: 7043 entries, 0 to 7042\n",
      "Data columns (total 21 columns):\n",
      " #   Column            Non-Null Count  Dtype  \n",
      "---  ------            --------------  -----  \n",
      " 0   customerID        7043 non-null   object \n",
      " 1   gender            7043 non-null   object \n",
      " 2   SeniorCitizen     7043 non-null   int64  \n",
      " 3   Partner           7043 non-null   object \n",
      " 4   Dependents        7043 non-null   object \n",
      " 5   tenure            7043 non-null   int64  \n",
      " 6   PhoneService      7043 non-null   object \n",
      " 7   MultipleLines     7043 non-null   object \n",
      " 8   InternetService   7043 non-null   object \n",
      " 9   OnlineSecurity    7043 non-null   object \n",
      " 10  OnlineBackup      7043 non-null   object \n",
      " 11  DeviceProtection  7043 non-null   object \n",
      " 12  TechSupport       7043 non-null   object \n",
      " 13  StreamingTV       7043 non-null   object \n",
      " 14  StreamingMovies   7043 non-null   object \n",
      " 15  Contract          7043 non-null   object \n",
      " 16  PaperlessBilling  7043 non-null   object \n",
      " 17  PaymentMethod     7043 non-null   object \n",
      " 18  MonthlyCharges    7043 non-null   float64\n",
      " 19  TotalCharges      7043 non-null   object \n",
      " 20  Churn             7043 non-null   object \n",
      "dtypes: float64(1), int64(2), object(18)\n",
      "memory usage: 1.1+ MB\n"
     ]
    }
   ],
   "source": [
    "df.info()"
   ]
  },
  {
   "cell_type": "code",
   "execution_count": 4,
   "id": "f72aada2",
   "metadata": {},
   "outputs": [
    {
     "data": {
      "text/plain": [
       "customerID           object\n",
       "gender               object\n",
       "SeniorCitizen         int64\n",
       "Partner              object\n",
       "Dependents           object\n",
       "tenure                int64\n",
       "PhoneService         object\n",
       "MultipleLines        object\n",
       "InternetService      object\n",
       "OnlineSecurity       object\n",
       "OnlineBackup         object\n",
       "DeviceProtection     object\n",
       "TechSupport          object\n",
       "StreamingTV          object\n",
       "StreamingMovies      object\n",
       "Contract             object\n",
       "PaperlessBilling     object\n",
       "PaymentMethod        object\n",
       "MonthlyCharges      float64\n",
       "TotalCharges         object\n",
       "Churn                object\n",
       "dtype: object"
      ]
     },
     "execution_count": 4,
     "metadata": {},
     "output_type": "execute_result"
    }
   ],
   "source": [
    "df.dtypes"
   ]
  },
  {
   "cell_type": "code",
   "execution_count": 5,
   "id": "eb30518a",
   "metadata": {},
   "outputs": [
    {
     "data": {
      "text/html": [
       "<div>\n",
       "<style scoped>\n",
       "    .dataframe tbody tr th:only-of-type {\n",
       "        vertical-align: middle;\n",
       "    }\n",
       "\n",
       "    .dataframe tbody tr th {\n",
       "        vertical-align: top;\n",
       "    }\n",
       "\n",
       "    .dataframe thead th {\n",
       "        text-align: right;\n",
       "    }\n",
       "</style>\n",
       "<table border=\"1\" class=\"dataframe\">\n",
       "  <thead>\n",
       "    <tr style=\"text-align: right;\">\n",
       "      <th></th>\n",
       "      <th>SeniorCitizen</th>\n",
       "      <th>tenure</th>\n",
       "      <th>MonthlyCharges</th>\n",
       "    </tr>\n",
       "  </thead>\n",
       "  <tbody>\n",
       "    <tr>\n",
       "      <th>count</th>\n",
       "      <td>7043.000000</td>\n",
       "      <td>7043.000000</td>\n",
       "      <td>7043.000000</td>\n",
       "    </tr>\n",
       "    <tr>\n",
       "      <th>mean</th>\n",
       "      <td>0.162147</td>\n",
       "      <td>32.371149</td>\n",
       "      <td>64.761692</td>\n",
       "    </tr>\n",
       "    <tr>\n",
       "      <th>std</th>\n",
       "      <td>0.368612</td>\n",
       "      <td>24.559481</td>\n",
       "      <td>30.090047</td>\n",
       "    </tr>\n",
       "    <tr>\n",
       "      <th>min</th>\n",
       "      <td>0.000000</td>\n",
       "      <td>0.000000</td>\n",
       "      <td>18.250000</td>\n",
       "    </tr>\n",
       "    <tr>\n",
       "      <th>25%</th>\n",
       "      <td>0.000000</td>\n",
       "      <td>9.000000</td>\n",
       "      <td>35.500000</td>\n",
       "    </tr>\n",
       "    <tr>\n",
       "      <th>50%</th>\n",
       "      <td>0.000000</td>\n",
       "      <td>29.000000</td>\n",
       "      <td>70.350000</td>\n",
       "    </tr>\n",
       "    <tr>\n",
       "      <th>75%</th>\n",
       "      <td>0.000000</td>\n",
       "      <td>55.000000</td>\n",
       "      <td>89.850000</td>\n",
       "    </tr>\n",
       "    <tr>\n",
       "      <th>max</th>\n",
       "      <td>1.000000</td>\n",
       "      <td>72.000000</td>\n",
       "      <td>118.750000</td>\n",
       "    </tr>\n",
       "  </tbody>\n",
       "</table>\n",
       "</div>"
      ],
      "text/plain": [
       "       SeniorCitizen       tenure  MonthlyCharges\n",
       "count    7043.000000  7043.000000     7043.000000\n",
       "mean        0.162147    32.371149       64.761692\n",
       "std         0.368612    24.559481       30.090047\n",
       "min         0.000000     0.000000       18.250000\n",
       "25%         0.000000     9.000000       35.500000\n",
       "50%         0.000000    29.000000       70.350000\n",
       "75%         0.000000    55.000000       89.850000\n",
       "max         1.000000    72.000000      118.750000"
      ]
     },
     "execution_count": 5,
     "metadata": {},
     "output_type": "execute_result"
    }
   ],
   "source": [
    "df.describe()"
   ]
  },
  {
   "cell_type": "code",
   "execution_count": 6,
   "id": "ffbb5d2c",
   "metadata": {},
   "outputs": [
    {
     "data": {
      "text/plain": [
       "customerID          False\n",
       "gender              False\n",
       "SeniorCitizen       False\n",
       "Partner             False\n",
       "Dependents          False\n",
       "tenure              False\n",
       "PhoneService        False\n",
       "MultipleLines       False\n",
       "InternetService     False\n",
       "OnlineSecurity      False\n",
       "OnlineBackup        False\n",
       "DeviceProtection    False\n",
       "TechSupport         False\n",
       "StreamingTV         False\n",
       "StreamingMovies     False\n",
       "Contract            False\n",
       "PaperlessBilling    False\n",
       "PaymentMethod       False\n",
       "MonthlyCharges      False\n",
       "TotalCharges        False\n",
       "Churn               False\n",
       "dtype: bool"
      ]
     },
     "execution_count": 6,
     "metadata": {},
     "output_type": "execute_result"
    }
   ],
   "source": [
    "df.isna().any()"
   ]
  },
  {
   "cell_type": "code",
   "execution_count": 7,
   "id": "facd149e",
   "metadata": {},
   "outputs": [],
   "source": [
    "#customerId column is not important\n",
    "df.drop('customerID', axis = 'columns', inplace = True)"
   ]
  },
  {
   "cell_type": "code",
   "execution_count": 8,
   "id": "e9133c10",
   "metadata": {},
   "outputs": [
    {
     "data": {
      "text/plain": [
       "dtype('O')"
      ]
     },
     "execution_count": 8,
     "metadata": {},
     "output_type": "execute_result"
    }
   ],
   "source": [
    "#TotalCharges column should be numeric\n",
    "df['TotalCharges'].dtype"
   ]
  },
  {
   "cell_type": "code",
   "execution_count": 9,
   "id": "b4487fd9",
   "metadata": {},
   "outputs": [
    {
     "data": {
      "text/plain": [
       "array(['29.85', '1889.5', '108.15', ..., '346.45', '306.6', '6844.5'],\n",
       "      dtype=object)"
      ]
     },
     "execution_count": 9,
     "metadata": {},
     "output_type": "execute_result"
    }
   ],
   "source": [
    "df['TotalCharges'].values"
   ]
  },
  {
   "cell_type": "code",
   "execution_count": 10,
   "id": "27446e24",
   "metadata": {},
   "outputs": [
    {
     "data": {
      "text/plain": [
       "Male      3555\n",
       "Female    3488\n",
       "Name: gender, dtype: int64"
      ]
     },
     "execution_count": 10,
     "metadata": {},
     "output_type": "execute_result"
    }
   ],
   "source": [
    "df['gender'].value_counts()"
   ]
  },
  {
   "cell_type": "code",
   "execution_count": 11,
   "id": "20d132bb",
   "metadata": {},
   "outputs": [
    {
     "data": {
      "text/html": [
       "<div>\n",
       "<style scoped>\n",
       "    .dataframe tbody tr th:only-of-type {\n",
       "        vertical-align: middle;\n",
       "    }\n",
       "\n",
       "    .dataframe tbody tr th {\n",
       "        vertical-align: top;\n",
       "    }\n",
       "\n",
       "    .dataframe thead th {\n",
       "        text-align: right;\n",
       "    }\n",
       "</style>\n",
       "<table border=\"1\" class=\"dataframe\">\n",
       "  <thead>\n",
       "    <tr style=\"text-align: right;\">\n",
       "      <th></th>\n",
       "      <th>gender</th>\n",
       "      <th>SeniorCitizen</th>\n",
       "      <th>Partner</th>\n",
       "      <th>Dependents</th>\n",
       "      <th>tenure</th>\n",
       "      <th>PhoneService</th>\n",
       "      <th>MultipleLines</th>\n",
       "      <th>InternetService</th>\n",
       "      <th>OnlineSecurity</th>\n",
       "      <th>OnlineBackup</th>\n",
       "      <th>DeviceProtection</th>\n",
       "      <th>TechSupport</th>\n",
       "      <th>StreamingTV</th>\n",
       "      <th>StreamingMovies</th>\n",
       "      <th>Contract</th>\n",
       "      <th>PaperlessBilling</th>\n",
       "      <th>PaymentMethod</th>\n",
       "      <th>MonthlyCharges</th>\n",
       "      <th>TotalCharges</th>\n",
       "      <th>Churn</th>\n",
       "    </tr>\n",
       "  </thead>\n",
       "  <tbody>\n",
       "    <tr>\n",
       "      <th>488</th>\n",
       "      <td>Female</td>\n",
       "      <td>0</td>\n",
       "      <td>Yes</td>\n",
       "      <td>Yes</td>\n",
       "      <td>0</td>\n",
       "      <td>No</td>\n",
       "      <td>No phone service</td>\n",
       "      <td>DSL</td>\n",
       "      <td>Yes</td>\n",
       "      <td>No</td>\n",
       "      <td>Yes</td>\n",
       "      <td>Yes</td>\n",
       "      <td>Yes</td>\n",
       "      <td>No</td>\n",
       "      <td>Two year</td>\n",
       "      <td>Yes</td>\n",
       "      <td>Bank transfer (automatic)</td>\n",
       "      <td>52.55</td>\n",
       "      <td></td>\n",
       "      <td>No</td>\n",
       "    </tr>\n",
       "    <tr>\n",
       "      <th>753</th>\n",
       "      <td>Male</td>\n",
       "      <td>0</td>\n",
       "      <td>No</td>\n",
       "      <td>Yes</td>\n",
       "      <td>0</td>\n",
       "      <td>Yes</td>\n",
       "      <td>No</td>\n",
       "      <td>No</td>\n",
       "      <td>No internet service</td>\n",
       "      <td>No internet service</td>\n",
       "      <td>No internet service</td>\n",
       "      <td>No internet service</td>\n",
       "      <td>No internet service</td>\n",
       "      <td>No internet service</td>\n",
       "      <td>Two year</td>\n",
       "      <td>No</td>\n",
       "      <td>Mailed check</td>\n",
       "      <td>20.25</td>\n",
       "      <td></td>\n",
       "      <td>No</td>\n",
       "    </tr>\n",
       "    <tr>\n",
       "      <th>936</th>\n",
       "      <td>Female</td>\n",
       "      <td>0</td>\n",
       "      <td>Yes</td>\n",
       "      <td>Yes</td>\n",
       "      <td>0</td>\n",
       "      <td>Yes</td>\n",
       "      <td>No</td>\n",
       "      <td>DSL</td>\n",
       "      <td>Yes</td>\n",
       "      <td>Yes</td>\n",
       "      <td>Yes</td>\n",
       "      <td>No</td>\n",
       "      <td>Yes</td>\n",
       "      <td>Yes</td>\n",
       "      <td>Two year</td>\n",
       "      <td>No</td>\n",
       "      <td>Mailed check</td>\n",
       "      <td>80.85</td>\n",
       "      <td></td>\n",
       "      <td>No</td>\n",
       "    </tr>\n",
       "    <tr>\n",
       "      <th>1082</th>\n",
       "      <td>Male</td>\n",
       "      <td>0</td>\n",
       "      <td>Yes</td>\n",
       "      <td>Yes</td>\n",
       "      <td>0</td>\n",
       "      <td>Yes</td>\n",
       "      <td>Yes</td>\n",
       "      <td>No</td>\n",
       "      <td>No internet service</td>\n",
       "      <td>No internet service</td>\n",
       "      <td>No internet service</td>\n",
       "      <td>No internet service</td>\n",
       "      <td>No internet service</td>\n",
       "      <td>No internet service</td>\n",
       "      <td>Two year</td>\n",
       "      <td>No</td>\n",
       "      <td>Mailed check</td>\n",
       "      <td>25.75</td>\n",
       "      <td></td>\n",
       "      <td>No</td>\n",
       "    </tr>\n",
       "    <tr>\n",
       "      <th>1340</th>\n",
       "      <td>Female</td>\n",
       "      <td>0</td>\n",
       "      <td>Yes</td>\n",
       "      <td>Yes</td>\n",
       "      <td>0</td>\n",
       "      <td>No</td>\n",
       "      <td>No phone service</td>\n",
       "      <td>DSL</td>\n",
       "      <td>Yes</td>\n",
       "      <td>Yes</td>\n",
       "      <td>Yes</td>\n",
       "      <td>Yes</td>\n",
       "      <td>Yes</td>\n",
       "      <td>No</td>\n",
       "      <td>Two year</td>\n",
       "      <td>No</td>\n",
       "      <td>Credit card (automatic)</td>\n",
       "      <td>56.05</td>\n",
       "      <td></td>\n",
       "      <td>No</td>\n",
       "    </tr>\n",
       "    <tr>\n",
       "      <th>3331</th>\n",
       "      <td>Male</td>\n",
       "      <td>0</td>\n",
       "      <td>Yes</td>\n",
       "      <td>Yes</td>\n",
       "      <td>0</td>\n",
       "      <td>Yes</td>\n",
       "      <td>No</td>\n",
       "      <td>No</td>\n",
       "      <td>No internet service</td>\n",
       "      <td>No internet service</td>\n",
       "      <td>No internet service</td>\n",
       "      <td>No internet service</td>\n",
       "      <td>No internet service</td>\n",
       "      <td>No internet service</td>\n",
       "      <td>Two year</td>\n",
       "      <td>No</td>\n",
       "      <td>Mailed check</td>\n",
       "      <td>19.85</td>\n",
       "      <td></td>\n",
       "      <td>No</td>\n",
       "    </tr>\n",
       "    <tr>\n",
       "      <th>3826</th>\n",
       "      <td>Male</td>\n",
       "      <td>0</td>\n",
       "      <td>Yes</td>\n",
       "      <td>Yes</td>\n",
       "      <td>0</td>\n",
       "      <td>Yes</td>\n",
       "      <td>Yes</td>\n",
       "      <td>No</td>\n",
       "      <td>No internet service</td>\n",
       "      <td>No internet service</td>\n",
       "      <td>No internet service</td>\n",
       "      <td>No internet service</td>\n",
       "      <td>No internet service</td>\n",
       "      <td>No internet service</td>\n",
       "      <td>Two year</td>\n",
       "      <td>No</td>\n",
       "      <td>Mailed check</td>\n",
       "      <td>25.35</td>\n",
       "      <td></td>\n",
       "      <td>No</td>\n",
       "    </tr>\n",
       "    <tr>\n",
       "      <th>4380</th>\n",
       "      <td>Female</td>\n",
       "      <td>0</td>\n",
       "      <td>Yes</td>\n",
       "      <td>Yes</td>\n",
       "      <td>0</td>\n",
       "      <td>Yes</td>\n",
       "      <td>No</td>\n",
       "      <td>No</td>\n",
       "      <td>No internet service</td>\n",
       "      <td>No internet service</td>\n",
       "      <td>No internet service</td>\n",
       "      <td>No internet service</td>\n",
       "      <td>No internet service</td>\n",
       "      <td>No internet service</td>\n",
       "      <td>Two year</td>\n",
       "      <td>No</td>\n",
       "      <td>Mailed check</td>\n",
       "      <td>20.00</td>\n",
       "      <td></td>\n",
       "      <td>No</td>\n",
       "    </tr>\n",
       "    <tr>\n",
       "      <th>5218</th>\n",
       "      <td>Male</td>\n",
       "      <td>0</td>\n",
       "      <td>Yes</td>\n",
       "      <td>Yes</td>\n",
       "      <td>0</td>\n",
       "      <td>Yes</td>\n",
       "      <td>No</td>\n",
       "      <td>No</td>\n",
       "      <td>No internet service</td>\n",
       "      <td>No internet service</td>\n",
       "      <td>No internet service</td>\n",
       "      <td>No internet service</td>\n",
       "      <td>No internet service</td>\n",
       "      <td>No internet service</td>\n",
       "      <td>One year</td>\n",
       "      <td>Yes</td>\n",
       "      <td>Mailed check</td>\n",
       "      <td>19.70</td>\n",
       "      <td></td>\n",
       "      <td>No</td>\n",
       "    </tr>\n",
       "    <tr>\n",
       "      <th>6670</th>\n",
       "      <td>Female</td>\n",
       "      <td>0</td>\n",
       "      <td>Yes</td>\n",
       "      <td>Yes</td>\n",
       "      <td>0</td>\n",
       "      <td>Yes</td>\n",
       "      <td>Yes</td>\n",
       "      <td>DSL</td>\n",
       "      <td>No</td>\n",
       "      <td>Yes</td>\n",
       "      <td>Yes</td>\n",
       "      <td>Yes</td>\n",
       "      <td>Yes</td>\n",
       "      <td>No</td>\n",
       "      <td>Two year</td>\n",
       "      <td>No</td>\n",
       "      <td>Mailed check</td>\n",
       "      <td>73.35</td>\n",
       "      <td></td>\n",
       "      <td>No</td>\n",
       "    </tr>\n",
       "    <tr>\n",
       "      <th>6754</th>\n",
       "      <td>Male</td>\n",
       "      <td>0</td>\n",
       "      <td>No</td>\n",
       "      <td>Yes</td>\n",
       "      <td>0</td>\n",
       "      <td>Yes</td>\n",
       "      <td>Yes</td>\n",
       "      <td>DSL</td>\n",
       "      <td>Yes</td>\n",
       "      <td>Yes</td>\n",
       "      <td>No</td>\n",
       "      <td>Yes</td>\n",
       "      <td>No</td>\n",
       "      <td>No</td>\n",
       "      <td>Two year</td>\n",
       "      <td>Yes</td>\n",
       "      <td>Bank transfer (automatic)</td>\n",
       "      <td>61.90</td>\n",
       "      <td></td>\n",
       "      <td>No</td>\n",
       "    </tr>\n",
       "  </tbody>\n",
       "</table>\n",
       "</div>"
      ],
      "text/plain": [
       "      gender  SeniorCitizen Partner Dependents  tenure PhoneService  \\\n",
       "488   Female              0     Yes        Yes       0           No   \n",
       "753     Male              0      No        Yes       0          Yes   \n",
       "936   Female              0     Yes        Yes       0          Yes   \n",
       "1082    Male              0     Yes        Yes       0          Yes   \n",
       "1340  Female              0     Yes        Yes       0           No   \n",
       "3331    Male              0     Yes        Yes       0          Yes   \n",
       "3826    Male              0     Yes        Yes       0          Yes   \n",
       "4380  Female              0     Yes        Yes       0          Yes   \n",
       "5218    Male              0     Yes        Yes       0          Yes   \n",
       "6670  Female              0     Yes        Yes       0          Yes   \n",
       "6754    Male              0      No        Yes       0          Yes   \n",
       "\n",
       "         MultipleLines InternetService       OnlineSecurity  \\\n",
       "488   No phone service             DSL                  Yes   \n",
       "753                 No              No  No internet service   \n",
       "936                 No             DSL                  Yes   \n",
       "1082               Yes              No  No internet service   \n",
       "1340  No phone service             DSL                  Yes   \n",
       "3331                No              No  No internet service   \n",
       "3826               Yes              No  No internet service   \n",
       "4380                No              No  No internet service   \n",
       "5218                No              No  No internet service   \n",
       "6670               Yes             DSL                   No   \n",
       "6754               Yes             DSL                  Yes   \n",
       "\n",
       "             OnlineBackup     DeviceProtection          TechSupport  \\\n",
       "488                    No                  Yes                  Yes   \n",
       "753   No internet service  No internet service  No internet service   \n",
       "936                   Yes                  Yes                   No   \n",
       "1082  No internet service  No internet service  No internet service   \n",
       "1340                  Yes                  Yes                  Yes   \n",
       "3331  No internet service  No internet service  No internet service   \n",
       "3826  No internet service  No internet service  No internet service   \n",
       "4380  No internet service  No internet service  No internet service   \n",
       "5218  No internet service  No internet service  No internet service   \n",
       "6670                  Yes                  Yes                  Yes   \n",
       "6754                  Yes                   No                  Yes   \n",
       "\n",
       "              StreamingTV      StreamingMovies  Contract PaperlessBilling  \\\n",
       "488                   Yes                   No  Two year              Yes   \n",
       "753   No internet service  No internet service  Two year               No   \n",
       "936                   Yes                  Yes  Two year               No   \n",
       "1082  No internet service  No internet service  Two year               No   \n",
       "1340                  Yes                   No  Two year               No   \n",
       "3331  No internet service  No internet service  Two year               No   \n",
       "3826  No internet service  No internet service  Two year               No   \n",
       "4380  No internet service  No internet service  Two year               No   \n",
       "5218  No internet service  No internet service  One year              Yes   \n",
       "6670                  Yes                   No  Two year               No   \n",
       "6754                   No                   No  Two year              Yes   \n",
       "\n",
       "                  PaymentMethod  MonthlyCharges TotalCharges Churn  \n",
       "488   Bank transfer (automatic)           52.55                 No  \n",
       "753                Mailed check           20.25                 No  \n",
       "936                Mailed check           80.85                 No  \n",
       "1082               Mailed check           25.75                 No  \n",
       "1340    Credit card (automatic)           56.05                 No  \n",
       "3331               Mailed check           19.85                 No  \n",
       "3826               Mailed check           25.35                 No  \n",
       "4380               Mailed check           20.00                 No  \n",
       "5218               Mailed check           19.70                 No  \n",
       "6670               Mailed check           73.35                 No  \n",
       "6754  Bank transfer (automatic)           61.90                 No  "
      ]
     },
     "execution_count": 11,
     "metadata": {},
     "output_type": "execute_result"
    }
   ],
   "source": [
    "df[df['TotalCharges'].values == ' ']"
   ]
  },
  {
   "cell_type": "code",
   "execution_count": 12,
   "id": "5d635e0d",
   "metadata": {},
   "outputs": [],
   "source": [
    "df['TotalCharges'] = pd.to_numeric(df['TotalCharges'], errors = 'coerce')\n",
    "df.drop(df[df['TotalCharges'].isna()].index, inplace = True)\n",
    "#we can use df.dropna also to drop null values"
   ]
  },
  {
   "cell_type": "code",
   "execution_count": 13,
   "id": "12bac808",
   "metadata": {},
   "outputs": [
    {
     "data": {
      "text/plain": [
       "gender               object\n",
       "SeniorCitizen         int64\n",
       "Partner              object\n",
       "Dependents           object\n",
       "tenure                int64\n",
       "PhoneService         object\n",
       "MultipleLines        object\n",
       "InternetService      object\n",
       "OnlineSecurity       object\n",
       "OnlineBackup         object\n",
       "DeviceProtection     object\n",
       "TechSupport          object\n",
       "StreamingTV          object\n",
       "StreamingMovies      object\n",
       "Contract             object\n",
       "PaperlessBilling     object\n",
       "PaymentMethod        object\n",
       "MonthlyCharges      float64\n",
       "TotalCharges        float64\n",
       "Churn                object\n",
       "dtype: object"
      ]
     },
     "execution_count": 13,
     "metadata": {},
     "output_type": "execute_result"
    }
   ],
   "source": [
    "df.dtypes"
   ]
  },
  {
   "cell_type": "code",
   "execution_count": 14,
   "id": "3d4e93f9",
   "metadata": {},
   "outputs": [
    {
     "data": {
      "text/plain": [
       "Male      3549\n",
       "Female    3483\n",
       "Name: gender, dtype: int64"
      ]
     },
     "execution_count": 14,
     "metadata": {},
     "output_type": "execute_result"
    }
   ],
   "source": [
    "df['gender'].value_counts()"
   ]
  },
  {
   "cell_type": "code",
   "execution_count": 15,
   "id": "7cc33580",
   "metadata": {},
   "outputs": [
    {
     "data": {
      "text/plain": [
       "No     5163\n",
       "Yes    1869\n",
       "Name: Churn, dtype: int64"
      ]
     },
     "execution_count": 15,
     "metadata": {},
     "output_type": "execute_result"
    }
   ],
   "source": [
    "df['Churn'].value_counts()"
   ]
  },
  {
   "cell_type": "code",
   "execution_count": 16,
   "id": "6382d5a0",
   "metadata": {},
   "outputs": [
    {
     "data": {
      "text/plain": [
       "<matplotlib.legend.Legend at 0x190ea0c3430>"
      ]
     },
     "execution_count": 16,
     "metadata": {},
     "output_type": "execute_result"
    },
    {
     "data": {
      "image/png": "[encoded data removed]",
      "text/plain": [
       "<Figure size 640x480 with 1 Axes>"
      ]
     },
     "metadata": {},
     "output_type": "display_data"
    }
   ],
   "source": [
    "tenure_churn_no = df[df.Churn=='No'].tenure\n",
    "tenure_churn_yes = df[df.Churn=='Yes'].tenure\n",
    "plt.xlabel(\"Tenure\")\n",
    "plt.ylabel(\"Number Of Customers\")\n",
    "plt.title(\"Customer Churn Prediction\")\n",
    "plt.hist([tenure_churn_no, tenure_churn_yes], color=['blue', 'red'], label=['Churn=No', 'Curn=Yes'])\n",
    "plt.legend()"
   ]
  },
  {
   "cell_type": "markdown",
   "id": "b8b43062",
   "metadata": {},
   "source": [
    "# Feature Engineering"
   ]
  },
  {
   "cell_type": "code",
   "execution_count": 17,
   "id": "c91f5a7c",
   "metadata": {},
   "outputs": [],
   "source": [
    "def get_unique_values(df, onlyObject = False):\n",
    "    for col in df.columns:\n",
    "        if onlyObject:\n",
    "            if df[col].dtype == 'object':\n",
    "                print(f'{col} : {df[col].unique()}')\n",
    "        else:\n",
    "            print(f'{col} : {df[col].unique()}')"
   ]
  },
  {
   "cell_type": "code",
   "execution_count": 18,
   "id": "198d1977",
   "metadata": {},
   "outputs": [
    {
     "name": "stdout",
     "output_type": "stream",
     "text": [
      "gender : ['Female' 'Male']\n",
      "Partner : ['Yes' 'No']\n",
      "Dependents : ['No' 'Yes']\n",
      "PhoneService : ['No' 'Yes']\n",
      "MultipleLines : ['No phone service' 'No' 'Yes']\n",
      "InternetService : ['DSL' 'Fiber optic' 'No']\n",
      "OnlineSecurity : ['No' 'Yes' 'No internet service']\n",
      "OnlineBackup : ['Yes' 'No' 'No internet service']\n",
      "DeviceProtection : ['No' 'Yes' 'No internet service']\n",
      "TechSupport : ['No' 'Yes' 'No internet service']\n",
      "StreamingTV : ['No' 'Yes' 'No internet service']\n",
      "StreamingMovies : ['No' 'Yes' 'No internet service']\n",
      "Contract : ['Month-to-month' 'One year' 'Two year']\n",
      "PaperlessBilling : ['Yes' 'No']\n",
      "PaymentMethod : ['Electronic check' 'Mailed check' 'Bank transfer (automatic)'\n",
      " 'Credit card (automatic)']\n",
      "Churn : ['No' 'Yes']\n"
     ]
    }
   ],
   "source": [
    "get_unique_values(df, True)"
   ]
  },
  {
   "cell_type": "code",
   "execution_count": 19,
   "id": "1f36b532",
   "metadata": {},
   "outputs": [],
   "source": [
    "df.replace(['No internet service', 'No phone service'], 'No', inplace = True)"
   ]
  },
  {
   "cell_type": "code",
   "execution_count": 20,
   "id": "1869da4b",
   "metadata": {},
   "outputs": [
    {
     "name": "stdout",
     "output_type": "stream",
     "text": [
      "gender : ['Female' 'Male']\n",
      "Partner : ['Yes' 'No']\n",
      "Dependents : ['No' 'Yes']\n",
      "PhoneService : ['No' 'Yes']\n",
      "MultipleLines : ['No' 'Yes']\n",
      "InternetService : ['DSL' 'Fiber optic' 'No']\n",
      "OnlineSecurity : ['No' 'Yes']\n",
      "OnlineBackup : ['Yes' 'No']\n",
      "DeviceProtection : ['No' 'Yes']\n",
      "TechSupport : ['No' 'Yes']\n",
      "StreamingTV : ['No' 'Yes']\n",
      "StreamingMovies : ['No' 'Yes']\n",
      "Contract : ['Month-to-month' 'One year' 'Two year']\n",
      "PaperlessBilling : ['Yes' 'No']\n",
      "PaymentMethod : ['Electronic check' 'Mailed check' 'Bank transfer (automatic)'\n",
      " 'Credit card (automatic)']\n",
      "Churn : ['No' 'Yes']\n"
     ]
    }
   ],
   "source": [
    "get_unique_values(df, True)"
   ]
  },
  {
   "cell_type": "code",
   "execution_count": 21,
   "id": "cd5fdf3f",
   "metadata": {},
   "outputs": [],
   "source": [
    "yes_no_columns = ['Partner', 'Dependents', 'PhoneService', 'MultipleLines', 'OnlineSecurity', 'OnlineBackup',\n",
    "                 'DeviceProtection', 'TechSupport', 'StreamingTV', 'StreamingMovies', 'PaperlessBilling', 'Churn']\n",
    "for col in yes_no_columns:\n",
    "    df[col].replace({'Yes': 1, 'No': 0}, inplace = True)"
   ]
  },
  {
   "cell_type": "code",
   "execution_count": 22,
   "id": "9f9f53a3",
   "metadata": {},
   "outputs": [
    {
     "name": "stdout",
     "output_type": "stream",
     "text": [
      "gender : ['Female' 'Male']\n",
      "SeniorCitizen : [0 1]\n",
      "Partner : [1 0]\n",
      "Dependents : [0 1]\n",
      "tenure : [ 1 34  2 45  8 22 10 28 62 13 16 58 49 25 69 52 71 21 12 30 47 72 17 27\n",
      "  5 46 11 70 63 43 15 60 18 66  9  3 31 50 64 56  7 42 35 48 29 65 38 68\n",
      " 32 55 37 36 41  6  4 33 67 23 57 61 14 20 53 40 59 24 44 19 54 51 26 39]\n",
      "PhoneService : [0 1]\n",
      "MultipleLines : [0 1]\n",
      "InternetService : ['DSL' 'Fiber optic' 'No']\n",
      "OnlineSecurity : [0 1]\n",
      "OnlineBackup : [1 0]\n",
      "DeviceProtection : [0 1]\n",
      "TechSupport : [0 1]\n",
      "StreamingTV : [0 1]\n",
      "StreamingMovies : [0 1]\n",
      "Contract : ['Month-to-month' 'One year' 'Two year']\n",
      "PaperlessBilling : [1 0]\n",
      "PaymentMethod : ['Electronic check' 'Mailed check' 'Bank transfer (automatic)'\n",
      " 'Credit card (automatic)']\n",
      "MonthlyCharges : [29.85 56.95 53.85 ... 63.1  44.2  78.7 ]\n",
      "TotalCharges : [  29.85 1889.5   108.15 ...  346.45  306.6  6844.5 ]\n",
      "Churn : [0 1]\n"
     ]
    }
   ],
   "source": [
    "get_unique_values(df)"
   ]
  },
  {
   "cell_type": "code",
   "execution_count": 23,
   "id": "2d837156",
   "metadata": {},
   "outputs": [],
   "source": [
    "df['gender'].replace({'Male': 1, 'Female': 0}, inplace = True)"
   ]
  },
  {
   "cell_type": "code",
   "execution_count": 24,
   "id": "c0eddd36",
   "metadata": {},
   "outputs": [
    {
     "name": "stdout",
     "output_type": "stream",
     "text": [
      "gender : [0 1]\n",
      "SeniorCitizen : [0 1]\n",
      "Partner : [1 0]\n",
      "Dependents : [0 1]\n",
      "tenure : [ 1 34  2 45  8 22 10 28 62 13 16 58 49 25 69 52 71 21 12 30 47 72 17 27\n",
      "  5 46 11 70 63 43 15 60 18 66  9  3 31 50 64 56  7 42 35 48 29 65 38 68\n",
      " 32 55 37 36 41  6  4 33 67 23 57 61 14 20 53 40 59 24 44 19 54 51 26 39]\n",
      "PhoneService : [0 1]\n",
      "MultipleLines : [0 1]\n",
      "OnlineSecurity : [0 1]\n",
      "OnlineBackup : [1 0]\n",
      "DeviceProtection : [0 1]\n",
      "TechSupport : [0 1]\n",
      "StreamingTV : [0 1]\n",
      "StreamingMovies : [0 1]\n",
      "PaperlessBilling : [1 0]\n",
      "MonthlyCharges : [29.85 56.95 53.85 ... 63.1  44.2  78.7 ]\n",
      "TotalCharges : [  29.85 1889.5   108.15 ...  346.45  306.6  6844.5 ]\n",
      "Churn : [0 1]\n",
      "InternetService_DSL : [1 0]\n",
      "InternetService_Fiber optic : [0 1]\n",
      "InternetService_No : [0 1]\n",
      "Contract_Month-to-month : [1 0]\n",
      "Contract_One year : [0 1]\n",
      "Contract_Two year : [0 1]\n",
      "PaymentMethod_Bank transfer (automatic) : [0 1]\n",
      "PaymentMethod_Credit card (automatic) : [0 1]\n",
      "PaymentMethod_Electronic check : [1 0]\n",
      "PaymentMethod_Mailed check : [0 1]\n"
     ]
    }
   ],
   "source": [
    "df = pd.get_dummies(data = df, columns = ['InternetService', 'Contract', 'PaymentMethod'])\n",
    "get_unique_values(df)"
   ]
  },
  {
   "cell_type": "raw",
   "id": "a60c6cd3",
   "metadata": {},
   "source": [
    "Here mainly two columns MonthlyCharges & TotalCharges contains continous value.\n",
    "There can be possibility of outliers.\n",
    "After feature engineering - All values are within range. No outliers found"
   ]
  },
  {
   "cell_type": "code",
   "execution_count": 25,
   "id": "2cc5ca6a",
   "metadata": {},
   "outputs": [
    {
     "data": {
      "text/plain": [
       "<matplotlib.axes._subplots.AxesSubplot at 0x190ea2839d0>"
      ]
     },
     "execution_count": 25,
     "metadata": {},
     "output_type": "execute_result"
    },
    {
     "data": {
      "image/png": "[encoded data removed]",
      "text/plain": [
       "<Figure size 640x480 with 1 Axes>"
      ]
     },
     "metadata": {},
     "output_type": "display_data"
    }
   ],
   "source": [
    "sns.distplot(df['MonthlyCharges'])"
   ]
  },
  {
   "cell_type": "code",
   "execution_count": 26,
   "id": "bfd24afa",
   "metadata": {},
   "outputs": [
    {
     "data": {
      "text/plain": [
       "<matplotlib.axes._subplots.AxesSubplot at 0x190ea1ba7f0>"
      ]
     },
     "execution_count": 26,
     "metadata": {},
     "output_type": "execute_result"
    },
    {
     "data": {
      "image/png": "[encoded data removed]",
      "text/plain": [
       "<Figure size 640x480 with 1 Axes>"
      ]
     },
     "metadata": {},
     "output_type": "display_data"
    }
   ],
   "source": [
    "sns.distplot(df['TotalCharges'])"
   ]
  },
  {
   "cell_type": "code",
   "execution_count": 27,
   "id": "cf26770d",
   "metadata": {},
   "outputs": [
    {
     "data": {
      "text/plain": [
       "<matplotlib.axes._subplots.AxesSubplot at 0x190ea1b20a0>"
      ]
     },
     "execution_count": 27,
     "metadata": {},
     "output_type": "execute_result"
    },
    {
     "data": {
      "image/png": "[encoded data removed]",
      "text/plain": [
       "<Figure size 640x480 with 1 Axes>"
      ]
     },
     "metadata": {},
     "output_type": "display_data"
    }
   ],
   "source": [
    "sns.boxplot(df['MonthlyCharges'])"
   ]
  },
  {
   "cell_type": "code",
   "execution_count": 28,
   "id": "0d8c220e",
   "metadata": {},
   "outputs": [
    {
     "data": {
      "text/plain": [
       "<matplotlib.axes._subplots.AxesSubplot at 0x190ea24a880>"
      ]
     },
     "execution_count": 28,
     "metadata": {},
     "output_type": "execute_result"
    },
    {
     "data": {
      "image/png": "[encoded data removed]",
      "text/plain": [
       "<Figure size 640x480 with 1 Axes>"
      ]
     },
     "metadata": {},
     "output_type": "display_data"
    }
   ],
   "source": [
    "sns.boxplot(df['TotalCharges'])"
   ]
  },
  {
   "cell_type": "code",
   "execution_count": 29,
   "id": "c59667c1",
   "metadata": {},
   "outputs": [],
   "source": [
    "X = df.drop('Churn', axis = 1)\n",
    "y = df[['Churn']]"
   ]
  },
  {
   "cell_type": "code",
   "execution_count": 30,
   "id": "fb1f75b7",
   "metadata": {},
   "outputs": [],
   "source": [
    "from sklearn.model_selection import train_test_split\n",
    "X_train, X_test, y_train, y_test = train_test_split(X, y, test_size = 0.2, random_state = 42, shuffle = True, stratify = y)"
   ]
  },
  {
   "cell_type": "code",
   "execution_count": 31,
   "id": "9fece9b5",
   "metadata": {},
   "outputs": [
    {
     "data": {
      "text/plain": [
       "<matplotlib.axes._subplots.AxesSubplot at 0x190ea683f40>"
      ]
     },
     "execution_count": 31,
     "metadata": {},
     "output_type": "execute_result"
    },
    {
     "data": {
      "image/png": "[encoded data removed]",
      "text/plain": [
       "<Figure size 640x480 with 1 Axes>"
      ]
     },
     "metadata": {},
     "output_type": "display_data"
    }
   ],
   "source": [
    "# We can see here data are not formally distributed \n",
    "# For better results needs to distribute data formally\n",
    "# SMOTE will be good solution for this\n",
    "sns.countplot(y_train['Churn'])"
   ]
  },
  {
   "cell_type": "code",
   "execution_count": 32,
   "id": "dfcb04d7",
   "metadata": {},
   "outputs": [],
   "source": [
    "from imblearn.over_sampling import SMOTE\n",
    "sm = SMOTE()\n",
    "X_train, y_train = sm.fit_resample(X_train, y_train)"
   ]
  },
  {
   "cell_type": "code",
   "execution_count": 33,
   "id": "c562a515",
   "metadata": {},
   "outputs": [
    {
     "data": {
      "text/plain": [
       "<matplotlib.axes._subplots.AxesSubplot at 0x190ea283c40>"
      ]
     },
     "execution_count": 33,
     "metadata": {},
     "output_type": "execute_result"
    },
    {
     "data": {
      "image/png": "[encoded data removed]",
      "text/plain": [
       "<Figure size 640x480 with 1 Axes>"
      ]
     },
     "metadata": {},
     "output_type": "display_data"
    }
   ],
   "source": [
    "sns.countplot(y_train['Churn'])"
   ]
  },
  {
   "cell_type": "code",
   "execution_count": 34,
   "id": "f24026de",
   "metadata": {},
   "outputs": [
    {
     "data": {
      "text/plain": [
       "((8260, 26), (8260, 1))"
      ]
     },
     "execution_count": 34,
     "metadata": {},
     "output_type": "execute_result"
    }
   ],
   "source": [
    "X_train.shape, y_train.shape"
   ]
  },
  {
   "cell_type": "code",
   "execution_count": 35,
   "id": "dc04bcf1",
   "metadata": {},
   "outputs": [],
   "source": [
    "cols_to_scale = ['tenure','MonthlyCharges','TotalCharges']\n",
    "from sklearn.preprocessing import MinMaxScaler\n",
    "scaler = MinMaxScaler()\n",
    "scaler.fit(X_train[cols_to_scale])\n",
    "X_train[cols_to_scale] = scaler.transform(X_train[cols_to_scale])\n",
    "X_test[cols_to_scale] = scaler.transform(X_test[cols_to_scale])"
   ]
  },
  {
   "cell_type": "code",
   "execution_count": 36,
   "id": "c4914a7a",
   "metadata": {},
   "outputs": [
    {
     "name": "stdout",
     "output_type": "stream",
     "text": [
      "gender : [1 0]\n",
      "SeniorCitizen : [0 1]\n",
      "Partner : [1 0]\n",
      "Dependents : [1 0]\n",
      "tenure : [0.90140845 0.35211268 0.94366197 0.02816901 0.67605634 0.88732394\n",
      " 0.08450704 0.29577465 0.42253521 0.07042254 0.         0.15492958\n",
      " 0.84507042 0.5915493  0.4084507  0.71830986 0.78873239 1.\n",
      " 0.57746479 0.1971831  0.64788732 0.01408451 0.43661972 0.98591549\n",
      " 0.46478873 0.69014085 0.12676056 0.09859155 0.30985915 0.32394366\n",
      " 0.85915493 0.50704225 0.14084507 0.25352113 0.63380282 0.11267606\n",
      " 0.05633803 0.56338028 0.8028169  0.92957746 0.16901408 0.38028169\n",
      " 0.87323944 0.73239437 0.97183099 0.18309859 0.04225352 0.36619718\n",
      " 0.91549296 0.47887324 0.23943662 0.22535211 0.52112676 0.6056338\n",
      " 0.95774648 0.70422535 0.33802817 0.26760563 0.54929577 0.21126761\n",
      " 0.61971831 0.81690141 0.45070423 0.76056338 0.77464789 0.83098592\n",
      " 0.28169014 0.3943662  0.74647887 0.49295775 0.66197183 0.53521127]\n",
      "PhoneService : [1 0]\n",
      "MultipleLines : [1 0]\n",
      "OnlineSecurity : [1 0]\n",
      "OnlineBackup : [1 0]\n",
      "DeviceProtection : [1 0]\n",
      "TechSupport : [1 0]\n",
      "StreamingTV : [0 1]\n",
      "StreamingMovies : [0 1]\n",
      "PaperlessBilling : [0 1]\n",
      "MonthlyCharges : [0.759601   0.17306733 0.71620948 ... 0.51585411 0.66283969 0.14319317]\n",
      "TotalCharges : [0.69927879 0.11582045 0.72453843 ... 0.01439114 0.35110548 0.00893291]\n",
      "InternetService_DSL : [0 1]\n",
      "InternetService_Fiber optic : [1 0]\n",
      "InternetService_No : [0 1]\n",
      "Contract_Month-to-month : [0 1]\n",
      "Contract_One year : [0 1]\n",
      "Contract_Two year : [1 0]\n",
      "PaymentMethod_Bank transfer (automatic) : [0 1]\n",
      "PaymentMethod_Credit card (automatic) : [1 0]\n",
      "PaymentMethod_Electronic check : [0 1]\n",
      "PaymentMethod_Mailed check : [0 1]\n"
     ]
    }
   ],
   "source": [
    "get_unique_values(X_train)"
   ]
  },
  {
   "cell_type": "code",
   "execution_count": 37,
   "id": "7d6b8586",
   "metadata": {},
   "outputs": [
    {
     "name": "stdout",
     "output_type": "stream",
     "text": [
      "gender : [0 1]\n",
      "SeniorCitizen : [0 1]\n",
      "Partner : [1 0]\n",
      "Dependents : [1 0]\n",
      "tenure : [0.81690141 0.08450704 0.74647887 0.01408451 0.98591549 0.83098592\n",
      " 0.45070423 0.18309859 1.         0.04225352 0.11267606 0.50704225\n",
      " 0.4084507  0.02816901 0.29577465 0.97183099 0.         0.66197183\n",
      " 0.52112676 0.76056338 0.67605634 0.85915493 0.91549296 0.3943662\n",
      " 0.84507042 0.14084507 0.6056338  0.92957746 0.73239437 0.88732394\n",
      " 0.46478873 0.71830986 0.09859155 0.30985915 0.77464789 0.07042254\n",
      " 0.33802817 0.28169014 0.5915493  0.78873239 0.95774648 0.36619718\n",
      " 0.12676056 0.53521127 0.32394366 0.35211268 0.63380282 0.38028169\n",
      " 0.26760563 0.8028169  0.64788732 0.43661972 0.47887324 0.94366197\n",
      " 0.57746479 0.21126761 0.23943662 0.22535211 0.16901408 0.1971831\n",
      " 0.69014085 0.87323944 0.05633803 0.61971831 0.56338028 0.25352113\n",
      " 0.42253521 0.90140845 0.15492958 0.54929577 0.49295775 0.70422535]\n",
      "PhoneService : [1 0]\n",
      "MultipleLines : [0 1]\n",
      "OnlineSecurity : [0 1]\n",
      "OnlineBackup : [1 0]\n",
      "DeviceProtection : [0 1]\n",
      "TechSupport : [1 0]\n",
      "StreamingTV : [1 0]\n",
      "StreamingMovies : [1 0]\n",
      "PaperlessBilling : [1 0]\n",
      "MonthlyCharges : [ 0.57406484  0.6         0.01695761  0.02244389  0.86533666  0.87281796\n",
      "  0.05735661  0.68678304  0.42693267  0.51670823  0.01296758  0.59551122\n",
      "  0.21745636  0.32718204  0.71820449  0.56458853  0.60798005  0.49725686\n",
      "  0.0713217   0.00798005  0.45885287  0.30822943  0.84638404  0.01546135\n",
      "  0.56408978  0.05087282  0.36758105  0.41097257  0.85137157  0.40448878\n",
      "  0.50573566  0.01346633  0.4478803   0.519202    0.43640898  0.02194514\n",
      "  0.26733167  0.42992519  0.0084788   0.92568579  0.79052369  0.01446384\n",
      "  0.90573566  0.51620948  0.61546135  0.67880299  0.4713217   0.31820449\n",
      "  0.87880299  0.62094763  0.72518703  0.16159601  0.31321696  0.57306733\n",
      "  0.01396509  0.56359102  0.16608479  0.35810474  0.55162095  0.86882793\n",
      "  0.05835411  0.32518703  0.00997506  0.01895262  0.05885287  0.31670823\n",
      "  0.55710723  0.26583541  0.61047382  0.06184539  0.56957606  0.80299252\n",
      "  0.22693267  0.7127182   0.26334165  0.0234414   0.0074813   0.49127182\n",
      "  0.72668329  0.52069825  0.5680798   0.36708229  0.51720698  0.78004988\n",
      "  0.41945137  0.66234414  0.81795511  0.55810474  0.95012469  0.81197007\n",
      "  0.50024938  0.65935162  0.38703242  0.35910224  0.85685786  0.31122195\n",
      "  0.35860349  0.7042394   0.52568579  0.56558603  0.87780549  0.01845387\n",
      "  0.68428928  0.01795511  0.7915212   0.21645885  0.70972569  0.72568579\n",
      "  0.65885287  0.55860349  0.07780549  0.00399002  0.84588529  0.81845387\n",
      "  0.57955112  0.06583541  0.64289277  0.36009975  0.0638404   0.66882793\n",
      "  0.32269327  0.6563591   0.00648379  0.60249377  0.57107232  0.70573566\n",
      "  0.02044888  0.06334165  0.91022444  0.81446384  0.51321696  0.38952618\n",
      "  0.87730673  0.5925187   0.80698254  0.06034913  0.51820449  0.41795511\n",
      "  0.31571072  0.8967581   0.47331671  0.79551122  0.41296758  0.59501247\n",
      "  0.01645885  0.30523691  0.45187032  0.52269327  0.37206983  0.92618454\n",
      "  0.47581047  0.27431421  0.36508728  0.76708229  0.50274314  0.5436409\n",
      "  0.56309227  0.5117207   0.4638404   0.55361596  0.41246883  0.88129676\n",
      "  0.70473815  0.32119701  0.0723192   0.53117207  0.61945137  0.01097257\n",
      "  0.16957606  0.70523691  0.01147132  0.66783042  0.02693267  0.36957606\n",
      "  0.67032419  0.77206983  0.46683292  0.58104738  0.06982544  0.89127182\n",
      "  0.05685786  0.77057357  0.62543641  0.55311721  0.74114713  0.72718204\n",
      "  0.6723192   0.76259352  0.8553616   0.16658354  0.41147132  0.10074813\n",
      "  0.94563591  0.41695761  0.57855362  0.92119701  0.32468828  0.42144638\n",
      "  0.72468828  0.8084788   0.71870324  0.45685786  0.67481297  0.719202\n",
      "  0.62044888  0.7117207   0.7361596   0.27531172  0.01246883  0.480798\n",
      "  0.65586035  0.6957606   0.00698254  0.57905237  0.74912718  0.47880299\n",
      "  0.06932668  0.61097257  0.59002494  0.06733167  0.65735661  0.44139651\n",
      "  0.71521197  0.91221945  0.880798    0.06234414  0.17107232  0.40698254\n",
      "  0.96359102  0.35012469  0.5201995   0.95361596  0.61795511  0.71371571\n",
      "  0.56608479  0.4872818   0.66433915  0.40997506  0.76558603  0.75511222\n",
      "  0.31221945  0.3605985   0.70673317  0.80798005  0.12319202  0.87630923\n",
      "  0.01995012  0.80399002  0.4553616   0.78603491  0.90124688  0.89526185\n",
      "  0.68229426  0.10922693  0.63990025  0.01945137  0.95461347  0.86932668\n",
      "  0.51022444  0.25586035  0.69526185  0.23142145  0.48379052  0.30274314\n",
      "  0.4798005   0.21895262  0.73566085  0.60897756  0.06783042  0.00897756\n",
      "  0.85336658  0.49276808  0.56508728  0.86783042  0.66533666  0.97406484\n",
      "  0.71670823  0.86284289  0.54513716  0.6234414   0.57057357  0.52468828\n",
      "  0.1605985   0.91620948  0.94314214  0.72219451  0.75561097  0.66633416\n",
      "  0.66483791  0.21496259  0.74663342  0.77805486  0.37755611  0.51371571\n",
      "  0.84887781  0.88778055  0.97456359  0.51770574  0.79750623  0.32069825\n",
      "  0.47630923  0.37406484  0.51072319  0.62942643  0.39301746  0.31471322\n",
      "  0.85735661  0.21246883  0.11970075  0.90274314  0.80548628  0.70274314\n",
      "  0.06084788  0.16558603  0.8882793   0.05785536  0.70822943  0.01197007\n",
      "  0.6713217   0.71620948  0.51221945  0.40399002  0.00947631  0.31770574\n",
      "  0.72169576  0.51970075  0.77605985  0.26284289  0.70922693  0.70723192\n",
      "  0.76309227  0.61296758  0.01496259  0.77107232  0.81645885  0.62493766\n",
      "  0.41396509  0.11022444  0.61645885  0.27381546  0.41845387  0.77456359\n",
      "  0.51421446  0.41645885  0.86683292  0.42194514  0.80149626  0.07680798\n",
      "  0.76658354  0.06134663  0.07930175  0.29725686  0.4563591   0.02294264\n",
      "  0.7521197   0.83391521  0.72069825  0.87032419  0.71022444  0.2638404\n",
      "  0.36907731  0.37306733  0.06483791  0.95411471  0.58453865  0.86134663\n",
      "  0.41496259  0.82643392  0.559601    0.7201995   0.30473815  0.69825436\n",
      "  0.17256858  0.51571072  0.01047382  0.20648379  0.49925187  0.0159601\n",
      "  0.36159601  0.50224439  0.02543641  0.87930175  0.92817955  0.26084788\n",
      "  0.46433915  0.3032419   0.60349127  0.26134663  0.83840399  0.00448878\n",
      "  0.01745636  0.57506234  0.00598504  0.62992519  0.61446384  0.89925187\n",
      "  0.38054863  0.46084788  0.00548628  0.85236908  0.60498753  0.77157107\n",
      "  0.63142145  0.61895262  0.3201995   0.02094763  0.60399002  0.67930175\n",
      "  0.6394015   0.78054863  0.50623441  0.07331671  0.65336658  0.71770574\n",
      "  0.40947631  0.35710723  0.1276808   0.46334165  0.57206983  0.06633416\n",
      "  0.73715711  0.8394015   0.57805486  0.55610973  0.67381546  0.59750623\n",
      "  0.62693267  0.35261845  0.91471322  0.9605985   0.51870324  0.30972569\n",
      "  0.72369077  0.70623441  0.26633416  0.75411471  0.05187032  0.75910224\n",
      "  0.89625935  0.61695761  0.16408978  0.68478803  0.5042394   0.85985037\n",
      "  0.11371571  0.80648379  0.34862843  0.31970075  0.26882793  0.61496259\n",
      "  0.56209476  0.840399    0.02643392  0.53715711  0.06433915  0.47082294\n",
      "  0.86733167  0.84538653  0.79351621  0.56758105  0.12069825  0.62892768\n",
      "  0.57157107  0.6084788   0.66733167  0.61396509  0.27182045  0.8638404\n",
      "  0.80897756  0.71471322  0.37805486  0.11321696  0.70024938  0.76209476\n",
      "  0.62593516  0.36408978  0.50523691  0.26932668  0.11521197  0.62294264\n",
      "  0.71321696  0.06832918  0.27082294  0.86234414  0.61246883  0.05985037\n",
      "  0.94513716  0.69326683  0.68977556  0.7276808   0.25685786  0.82543641\n",
      "  0.39750623  0.52817955  0.57705736  0.43391521  0.11072319  0.3765586\n",
      "  0.70374065  0.60099751  0.35461347  0.73965087  0.52518703  0.10723192\n",
      "  0.06882793  0.56259352  0.89825436  0.91571072  0.96857855  0.05137157\n",
      "  0.3521197   0.50723192  0.90773067  0.62743142  0.33067332  0.32568579\n",
      "  0.64837905  0.85785536  0.26234414  0.24887781  0.73815461  0.67182045\n",
      "  0.80249377  0.02394015  0.81246883  0.87381546  0.75461347  0.31421446\n",
      "  0.87830424  0.64588529  0.16758105  0.25785536  0.37157107  0.20448878\n",
      "  0.21795511  0.30723192  0.65835411  0.58004988  0.90523691  0.78453865\n",
      "  0.66683292  0.5521197   0.71221945  0.62144638  0.62244389  0.66982544\n",
      "  0.02144638  0.90922693  0.26533666  0.66583541  0.5127182   0.60947631\n",
      "  0.97855362  0.41546135  0.06533666  0.5286783   0.44289277  0.77955112\n",
      "  0.97605985  0.72269327  0.76458853  0.54962594  0.81296758  0.65685786\n",
      " -0.00149626  0.70174564  0.51521197  0.8713217   0.58603491  0.37456359\n",
      "  0.76009975  0.50473815  0.43541147  0.54413965  0.50822943  0.46034913\n",
      "  0.92668329  0.57007481  0.0798005   0.72967581  0.26832918  0.9117207\n",
      "  0.11670823  0.96458853  0.31870324  0.75810474  0.46733167  0.15760599\n",
      "  0.64389027  0.31072319  0.22144638  0.78154613  1.00099751  0.91820449\n",
      "  0.3127182   0.00299252  0.21197007  0.71720698  0.59950125  0.7680798\n",
      "  0.34962594  0.6638404   0.02593516  0.56109726  0.61995012  0.21845387\n",
      "  0.67830424  0.66932668  0.39451372  0.89077307  0.55910224  0.76159601\n",
      "  0.75610973  0.49226933  0.30872818  0.21695761  0.12568579  0.85835411\n",
      "  0.32817955  0.81895262  0.89476309  0.51471322  0.8234414   0.80598504\n",
      "  0.48927681  0.87331671  0.91970075  0.67331671  0.65286783  0.85286783\n",
      "  0.50773067  0.53665835  0.81995012  0.61745636  0.25436409  0.77306733\n",
      "  0.33715711  0.46882793  0.26683292  0.90673317  0.66134663  0.65187032\n",
      "  0.81396509  0.82094763  0.55561097  0.37705736  0.92169576  0.11471322\n",
      "  0.64638404  0.07032419  0.71421446  0.33665835  0.65785536  0.0244389\n",
      "  0.48977556  0.4244389   0.69775561  0.60698254  0.54114713  0.52219451\n",
      "  0.88329177  0.9032419   0.07531172  0.87481297  0.35660848  0.82743142\n",
      "  0.70124688  0.62842893  0.8074813   0.37057357  0.41346633  0.8957606\n",
      "  0.34663342  0.96508728  0.70872818  0.45436409  0.44339152  0.79451372\n",
      "  0.31720698  0.50972569  0.39850374  0.9201995   0.74812968  0.98553616\n",
      "  0.02493766  0.17705736  0.58304239  0.5755611   0.6553616   0.81047382\n",
      "  0.25935162  0.2553616   0.3680798   0.07182045  0.72917706  0.77506234\n",
      "  0.55062344  0.07082294  0.57256858  0.48229426  0.05486284  0.71122195\n",
      "  0.75311721  0.86633416  0.95810474  0.26783042  0.55760599  0.32219451\n",
      "  0.80448878  0.50124688  0.06683292  0.76957606  0.35361596  0.72119701\n",
      "  0.66832918  0.59301746  0.5361596   0.75660848  0.27481297  0.35760599\n",
      "  0.78354115  0.67630923  0.54912718  0.06284289  0.76508728  0.39900249\n",
      "  0.43142145  0.21945137  0.83291771  0.62793017  0.76408978  0.25985037\n",
      "  0.81546135  0.70773067  0.52418953  0.64189526  0.68279302  0.10872818\n",
      "  0.58204489  0.82294264  0.40598504  0.60448878  0.6319202   0.86583541\n",
      "  0.78753117  0.359601    0.49875312  0.76857855  0.60299252  0.79950125\n",
      "  0.39052369  0.36259352  0.16259352  0.959601    0.74962594  0.63291771\n",
      "  0.51122195  0.39700748  0.88179551  0.8         0.07431421  0.58653367\n",
      "  0.15461347  0.94962594  0.43790524  0.1765586   0.87082294  0.81695761\n",
      "  0.35561097  0.52119701  0.85087282  0.24139651  0.3117207   0.68528678\n",
      "  0.30673317  0.8159601   0.81097257  0.31371571  0.60598504  0.65486284\n",
      "  0.29376559  0.73117207  0.32967581  0.86982544  0.74713217  0.56159601\n",
      "  0.39501247  0.45985037  0.42942643  0.87431421  0.8563591   0.91421446\n",
      "  0.54563591  0.26433915  0.96259352  0.42394015  0.84089776  0.30573566\n",
      "  0.62394015  0.66334165  0.74763092  0.90174564  0.56857855  0.24837905\n",
      "  0.82144638  0.89875312  0.38004988  0.26483791  0.54613466  0.63441397\n",
      "  0.46832918  0.86433915  0.67531172  0.91670823  0.05586035  0.66034913\n",
      "  0.25336658  0.56907731  0.41895262  0.42294264  0.90872818  0.43990025\n",
      "  0.27331671  0.22094763]\n",
      "TotalCharges : [0.52198823 0.05817563 0.12239211 ... 0.13018694 0.15832564 0.10986037]\n",
      "InternetService_DSL : [1 0]\n",
      "InternetService_Fiber optic : [0 1]\n",
      "InternetService_No : [0 1]\n",
      "Contract_Month-to-month : [0 1]\n",
      "Contract_One year : [0 1]\n",
      "Contract_Two year : [1 0]\n",
      "PaymentMethod_Bank transfer (automatic) : [0 1]\n",
      "PaymentMethod_Credit card (automatic) : [1 0]\n",
      "PaymentMethod_Electronic check : [0 1]\n",
      "PaymentMethod_Mailed check : [0 1]\n"
     ]
    }
   ],
   "source": [
    "get_unique_values(X_test)"
   ]
  },
  {
   "cell_type": "markdown",
   "id": "9b054fab",
   "metadata": {},
   "source": [
    "# Model building & Prediction"
   ]
  },
  {
   "cell_type": "code",
   "execution_count": 38,
   "id": "40a323b3",
   "metadata": {},
   "outputs": [],
   "source": [
    "import tensorflow as tf\n",
    "from tensorflow import keras"
   ]
  },
  {
   "cell_type": "code",
   "execution_count": 39,
   "id": "06441720",
   "metadata": {},
   "outputs": [
    {
     "name": "stdout",
     "output_type": "stream",
     "text": [
      "Epoch 1/50\n",
      "259/259 [==============================] - 1s 2ms/step - loss: 0.5026 - accuracy: 0.7598\n",
      "Epoch 2/50\n",
      "259/259 [==============================] - 0s 2ms/step - loss: 0.4023 - accuracy: 0.8236\n",
      "Epoch 3/50\n",
      "259/259 [==============================] - 0s 2ms/step - loss: 0.3768 - accuracy: 0.8333\n",
      "Epoch 4/50\n",
      "259/259 [==============================] - 0s 2ms/step - loss: 0.3626 - accuracy: 0.8363\n",
      "Epoch 5/50\n",
      "259/259 [==============================] - 0s 2ms/step - loss: 0.3515 - accuracy: 0.8430\n",
      "Epoch 6/50\n",
      "259/259 [==============================] - 0s 2ms/step - loss: 0.3461 - accuracy: 0.8437\n",
      "Epoch 7/50\n",
      "259/259 [==============================] - 0s 2ms/step - loss: 0.3413 - accuracy: 0.8465\n",
      "Epoch 8/50\n",
      "259/259 [==============================] - 0s 2ms/step - loss: 0.3378 - accuracy: 0.8455\n",
      "Epoch 9/50\n",
      "259/259 [==============================] - 0s 2ms/step - loss: 0.3332 - accuracy: 0.8479\n",
      "Epoch 10/50\n",
      "259/259 [==============================] - 0s 2ms/step - loss: 0.3299 - accuracy: 0.8479\n",
      "Epoch 11/50\n",
      "259/259 [==============================] - 0s 2ms/step - loss: 0.3294 - accuracy: 0.8472\n",
      "Epoch 12/50\n",
      "259/259 [==============================] - 0s 2ms/step - loss: 0.3247 - accuracy: 0.8466\n",
      "Epoch 13/50\n",
      "259/259 [==============================] - 0s 2ms/step - loss: 0.3239 - accuracy: 0.8489\n",
      "Epoch 14/50\n",
      "259/259 [==============================] - 0s 2ms/step - loss: 0.3240 - accuracy: 0.8483\n",
      "Epoch 15/50\n",
      "259/259 [==============================] - 0s 2ms/step - loss: 0.3199 - accuracy: 0.8515\n",
      "Epoch 16/50\n",
      "259/259 [==============================] - 0s 2ms/step - loss: 0.3179 - accuracy: 0.8516\n",
      "Epoch 17/50\n",
      "259/259 [==============================] - 0s 2ms/step - loss: 0.3188 - accuracy: 0.8529\n",
      "Epoch 18/50\n",
      "259/259 [==============================] - 0s 2ms/step - loss: 0.3150 - accuracy: 0.8551\n",
      "Epoch 19/50\n",
      "259/259 [==============================] - 0s 2ms/step - loss: 0.3154 - accuracy: 0.8533\n",
      "Epoch 20/50\n",
      "259/259 [==============================] - 0s 2ms/step - loss: 0.3147 - accuracy: 0.8533\n",
      "Epoch 21/50\n",
      "259/259 [==============================] - 0s 2ms/step - loss: 0.3124 - accuracy: 0.8550\n",
      "Epoch 22/50\n",
      "259/259 [==============================] - 0s 2ms/step - loss: 0.3124 - accuracy: 0.8562\n",
      "Epoch 23/50\n",
      "259/259 [==============================] - 0s 2ms/step - loss: 0.3111 - accuracy: 0.8548\n",
      "Epoch 24/50\n",
      "259/259 [==============================] - 0s 2ms/step - loss: 0.3100 - accuracy: 0.8553\n",
      "Epoch 25/50\n",
      "259/259 [==============================] - 0s 2ms/step - loss: 0.3094 - accuracy: 0.8562\n",
      "Epoch 26/50\n",
      "259/259 [==============================] - 0s 2ms/step - loss: 0.3071 - accuracy: 0.8565\n",
      "Epoch 27/50\n",
      "259/259 [==============================] - 0s 2ms/step - loss: 0.3066 - accuracy: 0.8579\n",
      "Epoch 28/50\n",
      "259/259 [==============================] - 0s 2ms/step - loss: 0.3074 - accuracy: 0.8587\n",
      "Epoch 29/50\n",
      "259/259 [==============================] - 0s 2ms/step - loss: 0.3058 - accuracy: 0.8607\n",
      "Epoch 30/50\n",
      "259/259 [==============================] - 0s 2ms/step - loss: 0.3062 - accuracy: 0.8553\n",
      "Epoch 31/50\n",
      "259/259 [==============================] - 0s 2ms/step - loss: 0.3017 - accuracy: 0.8590\n",
      "Epoch 32/50\n",
      "259/259 [==============================] - 0s 2ms/step - loss: 0.3039 - accuracy: 0.8588\n",
      "Epoch 33/50\n",
      "259/259 [==============================] - 0s 2ms/step - loss: 0.3032 - accuracy: 0.8600\n",
      "Epoch 34/50\n",
      "259/259 [==============================] - 0s 2ms/step - loss: 0.3045 - accuracy: 0.8591\n",
      "Epoch 35/50\n",
      "259/259 [==============================] - 0s 2ms/step - loss: 0.3013 - accuracy: 0.8582\n",
      "Epoch 36/50\n",
      "259/259 [==============================] - 0s 2ms/step - loss: 0.3003 - accuracy: 0.8593\n",
      "Epoch 37/50\n",
      "259/259 [==============================] - 0s 2ms/step - loss: 0.3004 - accuracy: 0.8628\n",
      "Epoch 38/50\n",
      "259/259 [==============================] - 0s 2ms/step - loss: 0.3002 - accuracy: 0.8611\n",
      "Epoch 39/50\n",
      "259/259 [==============================] - 0s 2ms/step - loss: 0.2985 - accuracy: 0.8627\n",
      "Epoch 40/50\n",
      "259/259 [==============================] - 0s 2ms/step - loss: 0.2994 - accuracy: 0.8626\n",
      "Epoch 41/50\n",
      "259/259 [==============================] - 0s 2ms/step - loss: 0.2981 - accuracy: 0.8631\n",
      "Epoch 42/50\n",
      "259/259 [==============================] - 0s 2ms/step - loss: 0.2988 - accuracy: 0.8594\n",
      "Epoch 43/50\n",
      "259/259 [==============================] - 0s 2ms/step - loss: 0.2962 - accuracy: 0.8627\n",
      "Epoch 44/50\n",
      "259/259 [==============================] - 0s 2ms/step - loss: 0.2989 - accuracy: 0.8571\n",
      "Epoch 45/50\n",
      "259/259 [==============================] - 0s 2ms/step - loss: 0.2952 - accuracy: 0.8650\n",
      "Epoch 46/50\n",
      "259/259 [==============================] - 0s 2ms/step - loss: 0.2958 - accuracy: 0.8610\n",
      "Epoch 47/50\n",
      "259/259 [==============================] - 0s 2ms/step - loss: 0.2935 - accuracy: 0.8643\n",
      "Epoch 48/50\n",
      "259/259 [==============================] - 0s 2ms/step - loss: 0.2936 - accuracy: 0.8628\n",
      "Epoch 49/50\n",
      "259/259 [==============================] - 0s 2ms/step - loss: 0.2949 - accuracy: 0.8621\n",
      "Epoch 50/50\n",
      "259/259 [==============================] - 0s 2ms/step - loss: 0.2944 - accuracy: 0.8619\n"
     ]
    },
    {
     "data": {
      "text/plain": [
       "<keras.callbacks.History at 0x190f48c52b0>"
      ]
     },
     "execution_count": 39,
     "metadata": {},
     "output_type": "execute_result"
    }
   ],
   "source": [
    "model = keras.Sequential([\n",
    "    keras.layers.Dense(26, input_shape=(26,), activation='relu'),\n",
    "    keras.layers.Dense(13, activation='relu'),\n",
    "    keras.layers.Dense(1, activation='sigmoid')\n",
    "])\n",
    "model.compile(optimizer='adam',\n",
    "              loss='binary_crossentropy',\n",
    "              metrics=['accuracy'])\n",
    "model.fit(X_train, y_train, epochs=50)"
   ]
  },
  {
   "cell_type": "code",
   "execution_count": 40,
   "id": "8fd832ce",
   "metadata": {},
   "outputs": [
    {
     "data": {
      "text/plain": [
       "array([[0.00925088],\n",
       "       [0.8357943 ],\n",
       "       [0.00797707],\n",
       "       ...,\n",
       "       [0.00385013],\n",
       "       [0.01703602],\n",
       "       [0.00383252]], dtype=float32)"
      ]
     },
     "execution_count": 40,
     "metadata": {},
     "output_type": "execute_result"
    }
   ],
   "source": [
    "churn_pred = model.predict(X_test)\n",
    "churn_pred"
   ]
  },
  {
   "cell_type": "code",
   "execution_count": 41,
   "id": "b19123a5",
   "metadata": {},
   "outputs": [],
   "source": [
    "pred_values = []\n",
    "for pred_value in churn_pred:\n",
    "    if pred_value > 0.5:\n",
    "        pred_values.append(1)\n",
    "    else:\n",
    "        pred_values.append(0)"
   ]
  },
  {
   "cell_type": "code",
   "execution_count": 42,
   "id": "b52078eb",
   "metadata": {},
   "outputs": [
    {
     "data": {
      "text/html": [
       "<div>\n",
       "<style scoped>\n",
       "    .dataframe tbody tr th:only-of-type {\n",
       "        vertical-align: middle;\n",
       "    }\n",
       "\n",
       "    .dataframe tbody tr th {\n",
       "        vertical-align: top;\n",
       "    }\n",
       "\n",
       "    .dataframe thead th {\n",
       "        text-align: right;\n",
       "    }\n",
       "</style>\n",
       "<table border=\"1\" class=\"dataframe\">\n",
       "  <thead>\n",
       "    <tr style=\"text-align: right;\">\n",
       "      <th></th>\n",
       "      <th>Churn</th>\n",
       "    </tr>\n",
       "  </thead>\n",
       "  <tbody>\n",
       "    <tr>\n",
       "      <th>974</th>\n",
       "      <td>0</td>\n",
       "    </tr>\n",
       "    <tr>\n",
       "      <th>619</th>\n",
       "      <td>0</td>\n",
       "    </tr>\n",
       "    <tr>\n",
       "      <th>4289</th>\n",
       "      <td>0</td>\n",
       "    </tr>\n",
       "    <tr>\n",
       "      <th>3721</th>\n",
       "      <td>1</td>\n",
       "    </tr>\n",
       "    <tr>\n",
       "      <th>4533</th>\n",
       "      <td>0</td>\n",
       "    </tr>\n",
       "    <tr>\n",
       "      <th>445</th>\n",
       "      <td>1</td>\n",
       "    </tr>\n",
       "    <tr>\n",
       "      <th>5898</th>\n",
       "      <td>0</td>\n",
       "    </tr>\n",
       "    <tr>\n",
       "      <th>3387</th>\n",
       "      <td>0</td>\n",
       "    </tr>\n",
       "    <tr>\n",
       "      <th>1346</th>\n",
       "      <td>1</td>\n",
       "    </tr>\n",
       "    <tr>\n",
       "      <th>5690</th>\n",
       "      <td>0</td>\n",
       "    </tr>\n",
       "  </tbody>\n",
       "</table>\n",
       "</div>"
      ],
      "text/plain": [
       "      Churn\n",
       "974       0\n",
       "619       0\n",
       "4289      0\n",
       "3721      1\n",
       "4533      0\n",
       "445       1\n",
       "5898      0\n",
       "3387      0\n",
       "1346      1\n",
       "5690      0"
      ]
     },
     "execution_count": 42,
     "metadata": {},
     "output_type": "execute_result"
    }
   ],
   "source": [
    "y_test[:10]"
   ]
  },
  {
   "cell_type": "code",
   "execution_count": 43,
   "id": "0444a3bd",
   "metadata": {},
   "outputs": [
    {
     "data": {
      "text/plain": [
       "[0, 1, 0, 1, 0, 1, 0, 0, 1, 0]"
      ]
     },
     "execution_count": 43,
     "metadata": {},
     "output_type": "execute_result"
    }
   ],
   "source": [
    "pred_values[:10]"
   ]
  },
  {
   "cell_type": "code",
   "execution_count": 44,
   "id": "ec87d06d",
   "metadata": {},
   "outputs": [
    {
     "name": "stdout",
     "output_type": "stream",
     "text": [
      "44/44 [==============================] - 0s 1ms/step - loss: 0.4775 - accuracy: 0.7733\n"
     ]
    },
    {
     "data": {
      "text/plain": [
       "[0.47753316164016724, 0.7732764482498169]"
      ]
     },
     "execution_count": 44,
     "metadata": {},
     "output_type": "execute_result"
    }
   ],
   "source": [
    "model.evaluate(X_test, y_test)"
   ]
  },
  {
   "cell_type": "code",
   "execution_count": 45,
   "id": "a09b5e9e",
   "metadata": {},
   "outputs": [
    {
     "name": "stdout",
     "output_type": "stream",
     "text": [
      "              precision    recall  f1-score   support\n",
      "\n",
      "           0       0.86      0.82      0.84      1033\n",
      "           1       0.57      0.64      0.60       374\n",
      "\n",
      "    accuracy                           0.77      1407\n",
      "   macro avg       0.71      0.73      0.72      1407\n",
      "weighted avg       0.78      0.77      0.78      1407\n",
      "\n"
     ]
    }
   ],
   "source": [
    "from sklearn.metrics import confusion_matrix , classification_report\n",
    "print(classification_report(y_test,pred_values))"
   ]
  },
  {
   "cell_type": "code",
   "execution_count": 46,
   "id": "d46bbbab",
   "metadata": {},
   "outputs": [
    {
     "data": {
      "text/plain": [
       "Text(70.72222222222221, 0.5, 'Actual')"
      ]
     },
     "execution_count": 46,
     "metadata": {},
     "output_type": "execute_result"
    },
    {
     "data": {
      "image/png": "[encoded data removed]",
      "text/plain": [
       "<Figure size 800x500 with 2 Axes>"
      ]
     },
     "metadata": {},
     "output_type": "display_data"
    }
   ],
   "source": [
    "import seaborn as sn\n",
    "cm = tf.math.confusion_matrix(labels=y_test,predictions=pred_values)\n",
    "plt.figure(figsize = (8,5))\n",
    "sn.heatmap(cm, annot = True, fmt='d')\n",
    "plt.xlabel('Predicted')\n",
    "plt.ylabel('Actual')"
   ]
  },
  {
   "cell_type": "raw",
   "id": "8c795f37",
   "metadata": {},
   "source": [
    "Here you can see accuracy is baised towards churn no\n",
    "we can get good accuracy while batch training"
   ]
  },
  {
   "cell_type": "code",
   "execution_count": 47,
   "id": "a74bdc1b",
   "metadata": {},
   "outputs": [],
   "source": [
    "def ANN(X_train, y_train, X_test, y_test, loss, weights):\n",
    "    model = keras.Sequential([\n",
    "        keras.layers.Dense(26, input_dim=26, activation='relu'),\n",
    "        keras.layers.Dense(14, activation='relu'),\n",
    "        keras.layers.Dense(1, activation='sigmoid')\n",
    "    ])\n",
    "\n",
    "    model.compile(optimizer='adam', loss=loss, metrics=['accuracy'])\n",
    "    \n",
    "    if weights == -1:\n",
    "        model.fit(X_train, y_train, epochs=50)\n",
    "    else:\n",
    "        model.fit(X_train, y_train, epochs=50, class_weight = weights)\n",
    "    \n",
    "    print(model.evaluate(X_test, y_test))\n",
    "    \n",
    "    y_preds = model.predict(X_test)\n",
    "    y_preds = np.round(y_preds)\n",
    "    \n",
    "    print(f\"Classification Report: \\n {classification_report(y_test, y_preds)}\")\n",
    "    \n",
    "    return y_preds"
   ]
  },
  {
   "cell_type": "code",
   "execution_count": 48,
   "id": "95a7c155",
   "metadata": {},
   "outputs": [
    {
     "data": {
      "text/plain": [
       "((5163, 27), (1869, 27))"
      ]
     },
     "execution_count": 48,
     "metadata": {},
     "output_type": "execute_result"
    }
   ],
   "source": [
    "df_churn_no = df[df.Churn==0]\n",
    "df_churn_yes = df[df.Churn==1]\n",
    "df_churn_no.shape, df_churn_yes.shape"
   ]
  },
  {
   "cell_type": "code",
   "execution_count": 49,
   "id": "0af5051a",
   "metadata": {},
   "outputs": [],
   "source": [
    "def get_train_batch(df_majority, df_minority, start, end):\n",
    "    df_train = pd.concat([df_majority[start:end], df_minority], axis=0)\n",
    "    X_train = df_train.drop('Churn', axis='columns')\n",
    "    y_train = df_train.Churn\n",
    "    return X_train, y_train  "
   ]
  },
  {
   "cell_type": "code",
   "execution_count": 50,
   "id": "cdf20743",
   "metadata": {},
   "outputs": [
    {
     "name": "stdout",
     "output_type": "stream",
     "text": [
      "Epoch 1/50\n",
      "117/117 [==============================] - 1s 2ms/step - loss: 6.4919 - accuracy: 0.5484\n",
      "Epoch 2/50\n",
      "117/117 [==============================] - 0s 2ms/step - loss: 0.6630 - accuracy: 0.6367\n",
      "Epoch 3/50\n",
      "117/117 [==============================] - 0s 2ms/step - loss: 0.6075 - accuracy: 0.7052\n",
      "Epoch 4/50\n",
      "117/117 [==============================] - 0s 2ms/step - loss: 0.6223 - accuracy: 0.7103\n",
      "Epoch 5/50\n",
      "117/117 [==============================] - 0s 2ms/step - loss: 0.5872 - accuracy: 0.7212\n",
      "Epoch 6/50\n",
      "117/117 [==============================] - 0s 2ms/step - loss: 0.5576 - accuracy: 0.7301\n",
      "Epoch 7/50\n",
      "117/117 [==============================] - 0s 2ms/step - loss: 0.5434 - accuracy: 0.7386\n",
      "Epoch 8/50\n",
      "117/117 [==============================] - 0s 2ms/step - loss: 0.6782 - accuracy: 0.7124\n",
      "Epoch 9/50\n",
      "117/117 [==============================] - 0s 2ms/step - loss: 0.5814 - accuracy: 0.7255\n",
      "Epoch 10/50\n",
      "117/117 [==============================] - 0s 2ms/step - loss: 0.5444 - accuracy: 0.7429\n",
      "Epoch 11/50\n",
      "117/117 [==============================] - 0s 2ms/step - loss: 0.5598 - accuracy: 0.7338\n",
      "Epoch 12/50\n",
      "117/117 [==============================] - 0s 2ms/step - loss: 0.5200 - accuracy: 0.7475\n",
      "Epoch 13/50\n",
      "117/117 [==============================] - 0s 2ms/step - loss: 0.5679 - accuracy: 0.7327\n",
      "Epoch 14/50\n",
      "117/117 [==============================] - 0s 2ms/step - loss: 0.5279 - accuracy: 0.7445\n",
      "Epoch 15/50\n",
      "117/117 [==============================] - 0s 2ms/step - loss: 0.5495 - accuracy: 0.7373\n",
      "Epoch 16/50\n",
      "117/117 [==============================] - 0s 2ms/step - loss: 0.5865 - accuracy: 0.7266\n",
      "Epoch 17/50\n",
      "117/117 [==============================] - 0s 2ms/step - loss: 0.5159 - accuracy: 0.7509\n",
      "Epoch 18/50\n",
      "117/117 [==============================] - 0s 2ms/step - loss: 0.5428 - accuracy: 0.7413\n",
      "Epoch 19/50\n",
      "117/117 [==============================] - 0s 2ms/step - loss: 0.5143 - accuracy: 0.7541\n",
      "Epoch 20/50\n",
      "117/117 [==============================] - 0s 2ms/step - loss: 0.6012 - accuracy: 0.7335\n",
      "Epoch 21/50\n",
      "117/117 [==============================] - 0s 2ms/step - loss: 0.5693 - accuracy: 0.7290\n",
      "Epoch 22/50\n",
      "117/117 [==============================] - 0s 2ms/step - loss: 0.5236 - accuracy: 0.7461\n",
      "Epoch 23/50\n",
      "117/117 [==============================] - 0s 2ms/step - loss: 0.5345 - accuracy: 0.7453\n",
      "Epoch 24/50\n",
      "117/117 [==============================] - 0s 2ms/step - loss: 0.5528 - accuracy: 0.7397\n",
      "Epoch 25/50\n",
      "117/117 [==============================] - 0s 2ms/step - loss: 0.5920 - accuracy: 0.7271\n",
      "Epoch 26/50\n",
      "117/117 [==============================] - 0s 2ms/step - loss: 0.5725 - accuracy: 0.7410\n",
      "Epoch 27/50\n",
      "117/117 [==============================] - 0s 2ms/step - loss: 0.5519 - accuracy: 0.7402\n",
      "Epoch 28/50\n",
      "117/117 [==============================] - 0s 2ms/step - loss: 0.5383 - accuracy: 0.7491\n",
      "Epoch 29/50\n",
      "117/117 [==============================] - 0s 2ms/step - loss: 0.6215 - accuracy: 0.7279\n",
      "Epoch 30/50\n",
      "117/117 [==============================] - 0s 2ms/step - loss: 0.5109 - accuracy: 0.7512\n",
      "Epoch 31/50\n",
      "117/117 [==============================] - 0s 2ms/step - loss: 0.5150 - accuracy: 0.7558\n",
      "Epoch 32/50\n",
      "117/117 [==============================] - 0s 2ms/step - loss: 0.5708 - accuracy: 0.7392\n",
      "Epoch 33/50\n",
      "117/117 [==============================] - 0s 2ms/step - loss: 0.5193 - accuracy: 0.7509\n",
      "Epoch 34/50\n",
      "117/117 [==============================] - 0s 2ms/step - loss: 0.5172 - accuracy: 0.7520\n",
      "Epoch 35/50\n",
      "117/117 [==============================] - 0s 2ms/step - loss: 0.5394 - accuracy: 0.7445\n",
      "Epoch 36/50\n",
      "117/117 [==============================] - 0s 2ms/step - loss: 0.5065 - accuracy: 0.7504\n",
      "Epoch 37/50\n",
      "117/117 [==============================] - 0s 2ms/step - loss: 0.5636 - accuracy: 0.7378\n",
      "Epoch 38/50\n",
      "117/117 [==============================] - 0s 2ms/step - loss: 0.6076 - accuracy: 0.7368\n",
      "Epoch 39/50\n",
      "117/117 [==============================] - 0s 2ms/step - loss: 0.5352 - accuracy: 0.7459\n",
      "Epoch 40/50\n",
      "117/117 [==============================] - 0s 2ms/step - loss: 0.5232 - accuracy: 0.7515\n",
      "Epoch 41/50\n",
      "117/117 [==============================] - 0s 2ms/step - loss: 0.5786 - accuracy: 0.7357\n",
      "Epoch 42/50\n",
      "117/117 [==============================] - 0s 2ms/step - loss: 0.5347 - accuracy: 0.7477\n",
      "Epoch 43/50\n",
      "117/117 [==============================] - 0s 2ms/step - loss: 0.5774 - accuracy: 0.7360\n",
      "Epoch 44/50\n",
      "117/117 [==============================] - 0s 2ms/step - loss: 0.5353 - accuracy: 0.7429\n",
      "Epoch 45/50\n",
      "117/117 [==============================] - 0s 2ms/step - loss: 0.5080 - accuracy: 0.7504\n",
      "Epoch 46/50\n",
      "117/117 [==============================] - 0s 2ms/step - loss: 0.5275 - accuracy: 0.7533\n",
      "Epoch 47/50\n",
      "117/117 [==============================] - 0s 2ms/step - loss: 0.4985 - accuracy: 0.7582\n",
      "Epoch 48/50\n",
      "117/117 [==============================] - 0s 2ms/step - loss: 0.5787 - accuracy: 0.7301\n",
      "Epoch 49/50\n",
      "117/117 [==============================] - 0s 2ms/step - loss: 0.5398 - accuracy: 0.7472\n",
      "Epoch 50/50\n",
      "117/117 [==============================] - 0s 2ms/step - loss: 0.5222 - accuracy: 0.7536\n",
      "44/44 [==============================] - 0s 1ms/step - loss: 0.8607 - accuracy: 0.3042\n",
      "[0.8607165813446045, 0.30419331789016724]\n",
      "Classification Report: \n",
      "               precision    recall  f1-score   support\n",
      "\n",
      "           0       0.72      0.08      0.15      1033\n",
      "           1       0.26      0.91      0.41       374\n",
      "\n",
      "    accuracy                           0.30      1407\n",
      "   macro avg       0.49      0.50      0.28      1407\n",
      "weighted avg       0.60      0.30      0.22      1407\n",
      "\n"
     ]
    }
   ],
   "source": [
    "X_train, y_train = get_train_batch(df_churn_no, df_churn_yes, 0, 1869)\n",
    "pred_values1 = ANN(X_train, y_train, X_test, y_test, 'binary_crossentropy', -1)"
   ]
  },
  {
   "cell_type": "code",
   "execution_count": 51,
   "id": "d9952507",
   "metadata": {},
   "outputs": [
    {
     "name": "stdout",
     "output_type": "stream",
     "text": [
      "Epoch 1/50\n",
      "117/117 [==============================] - 1s 2ms/step - loss: 9.6031 - accuracy: 0.6332\n",
      "Epoch 2/50\n",
      "117/117 [==============================] - 0s 2ms/step - loss: 0.6277 - accuracy: 0.7186\n",
      "Epoch 3/50\n",
      "117/117 [==============================] - 0s 2ms/step - loss: 0.7184 - accuracy: 0.7111\n",
      "Epoch 4/50\n",
      "117/117 [==============================] - 0s 2ms/step - loss: 0.5950 - accuracy: 0.7172\n",
      "Epoch 5/50\n",
      "117/117 [==============================] - 0s 2ms/step - loss: 0.6074 - accuracy: 0.7180\n",
      "Epoch 6/50\n",
      "117/117 [==============================] - 0s 2ms/step - loss: 0.6689 - accuracy: 0.7108\n",
      "Epoch 7/50\n",
      "117/117 [==============================] - 0s 2ms/step - loss: 0.7717 - accuracy: 0.6937\n",
      "Epoch 8/50\n",
      "117/117 [==============================] - 0s 2ms/step - loss: 0.6265 - accuracy: 0.7210\n",
      "Epoch 9/50\n",
      "117/117 [==============================] - 0s 2ms/step - loss: 0.6104 - accuracy: 0.7266\n",
      "Epoch 10/50\n",
      "117/117 [==============================] - 0s 2ms/step - loss: 0.6200 - accuracy: 0.7183\n",
      "Epoch 11/50\n",
      "117/117 [==============================] - 0s 2ms/step - loss: 0.6290 - accuracy: 0.7156\n",
      "Epoch 12/50\n",
      "117/117 [==============================] - 0s 2ms/step - loss: 0.7865 - accuracy: 0.7052\n",
      "Epoch 13/50\n",
      "117/117 [==============================] - 0s 2ms/step - loss: 0.6442 - accuracy: 0.7271\n",
      "Epoch 14/50\n",
      "117/117 [==============================] - 0s 2ms/step - loss: 0.5988 - accuracy: 0.7298\n",
      "Epoch 15/50\n",
      "117/117 [==============================] - 0s 2ms/step - loss: 0.5723 - accuracy: 0.7400\n",
      "Epoch 16/50\n",
      "117/117 [==============================] - 0s 2ms/step - loss: 0.5632 - accuracy: 0.7389\n",
      "Epoch 17/50\n",
      "117/117 [==============================] - 0s 2ms/step - loss: 0.6541 - accuracy: 0.7266\n",
      "Epoch 18/50\n",
      "117/117 [==============================] - 0s 2ms/step - loss: 0.5434 - accuracy: 0.7437\n",
      "Epoch 19/50\n",
      "117/117 [==============================] - 0s 2ms/step - loss: 0.6176 - accuracy: 0.7322\n",
      "Epoch 20/50\n",
      "117/117 [==============================] - 0s 2ms/step - loss: 0.6366 - accuracy: 0.7378\n",
      "Epoch 21/50\n",
      "117/117 [==============================] - 0s 2ms/step - loss: 0.6881 - accuracy: 0.7333\n",
      "Epoch 22/50\n",
      "117/117 [==============================] - 0s 2ms/step - loss: 0.6072 - accuracy: 0.7338\n",
      "Epoch 23/50\n",
      "117/117 [==============================] - 0s 2ms/step - loss: 0.6064 - accuracy: 0.7410\n",
      "Epoch 24/50\n",
      "117/117 [==============================] - 0s 2ms/step - loss: 0.5673 - accuracy: 0.7392\n",
      "Epoch 25/50\n",
      "117/117 [==============================] - 0s 2ms/step - loss: 0.5734 - accuracy: 0.7408\n",
      "Epoch 26/50\n",
      "117/117 [==============================] - 0s 2ms/step - loss: 0.6793 - accuracy: 0.7188\n",
      "Epoch 27/50\n",
      "117/117 [==============================] - 0s 2ms/step - loss: 0.5785 - accuracy: 0.7448\n",
      "Epoch 28/50\n",
      "117/117 [==============================] - 0s 2ms/step - loss: 0.6231 - accuracy: 0.7338\n",
      "Epoch 29/50\n",
      "117/117 [==============================] - 0s 2ms/step - loss: 0.5661 - accuracy: 0.7464\n",
      "Epoch 30/50\n",
      "117/117 [==============================] - 0s 2ms/step - loss: 0.6690 - accuracy: 0.7285\n",
      "Epoch 31/50\n",
      "117/117 [==============================] - 0s 2ms/step - loss: 0.6599 - accuracy: 0.7338\n",
      "Epoch 32/50\n",
      "117/117 [==============================] - 0s 2ms/step - loss: 0.5239 - accuracy: 0.7582\n",
      "Epoch 33/50\n",
      "117/117 [==============================] - 0s 2ms/step - loss: 0.6838 - accuracy: 0.7255\n",
      "Epoch 34/50\n",
      "117/117 [==============================] - 0s 2ms/step - loss: 0.5798 - accuracy: 0.7418\n",
      "Epoch 35/50\n",
      "117/117 [==============================] - 0s 2ms/step - loss: 0.5449 - accuracy: 0.7547\n",
      "Epoch 36/50\n",
      "117/117 [==============================] - 0s 2ms/step - loss: 0.6863 - accuracy: 0.7279\n",
      "Epoch 37/50\n",
      "117/117 [==============================] - 0s 2ms/step - loss: 0.5706 - accuracy: 0.7437\n",
      "Epoch 38/50\n",
      "117/117 [==============================] - 0s 2ms/step - loss: 0.5385 - accuracy: 0.7512\n",
      "Epoch 39/50\n",
      "117/117 [==============================] - 0s 2ms/step - loss: 0.5899 - accuracy: 0.7437\n",
      "Epoch 40/50\n",
      "117/117 [==============================] - 0s 2ms/step - loss: 0.6449 - accuracy: 0.7384\n",
      "Epoch 41/50\n",
      "117/117 [==============================] - 0s 2ms/step - loss: 0.5579 - accuracy: 0.7429\n",
      "Epoch 42/50\n",
      "117/117 [==============================] - 0s 2ms/step - loss: 0.8470 - accuracy: 0.7063\n",
      "Epoch 43/50\n",
      "117/117 [==============================] - 0s 2ms/step - loss: 0.6678 - accuracy: 0.7362\n",
      "Epoch 44/50\n",
      "117/117 [==============================] - 0s 2ms/step - loss: 0.6099 - accuracy: 0.7370\n",
      "Epoch 45/50\n",
      "117/117 [==============================] - 0s 2ms/step - loss: 0.5231 - accuracy: 0.7592\n",
      "Epoch 46/50\n",
      "117/117 [==============================] - 0s 2ms/step - loss: 0.5709 - accuracy: 0.7421\n",
      "Epoch 47/50\n",
      "117/117 [==============================] - 0s 2ms/step - loss: 0.6305 - accuracy: 0.7424\n",
      "Epoch 48/50\n",
      "117/117 [==============================] - 0s 2ms/step - loss: 0.6624 - accuracy: 0.7298\n",
      "Epoch 49/50\n",
      "117/117 [==============================] - 0s 2ms/step - loss: 0.5922 - accuracy: 0.7440\n",
      "Epoch 50/50\n",
      "117/117 [==============================] - 0s 2ms/step - loss: 0.5729 - accuracy: 0.7426\n",
      "44/44 [==============================] - 0s 2ms/step - loss: 0.8012 - accuracy: 0.4726\n",
      "[0.8012464642524719, 0.4726368188858032]\n",
      "Classification Report: \n",
      "               precision    recall  f1-score   support\n",
      "\n",
      "           0       0.90      0.32      0.47      1033\n",
      "           1       0.32      0.90      0.48       374\n",
      "\n",
      "    accuracy                           0.47      1407\n",
      "   macro avg       0.61      0.61      0.47      1407\n",
      "weighted avg       0.75      0.47      0.47      1407\n",
      "\n"
     ]
    }
   ],
   "source": [
    "X_train, y_train = get_train_batch(df_churn_no, df_churn_yes, 1869, 3738)\n",
    "pred_values2 = ANN(X_train, y_train, X_test, y_test, 'binary_crossentropy', -1)"
   ]
  },
  {
   "cell_type": "code",
   "execution_count": 52,
   "id": "1ea7d362",
   "metadata": {},
   "outputs": [
    {
     "name": "stdout",
     "output_type": "stream",
     "text": [
      "Epoch 1/50\n",
      "103/103 [==============================] - 1s 2ms/step - loss: 0.9629 - accuracy: 0.7119\n",
      "Epoch 2/50\n",
      "103/103 [==============================] - 0s 2ms/step - loss: 0.6838 - accuracy: 0.7262\n",
      "Epoch 3/50\n",
      "103/103 [==============================] - 0s 2ms/step - loss: 0.7220 - accuracy: 0.7180\n",
      "Epoch 4/50\n",
      "103/103 [==============================] - 0s 2ms/step - loss: 1.0433 - accuracy: 0.7034\n",
      "Epoch 5/50\n",
      "103/103 [==============================] - 0s 2ms/step - loss: 0.6949 - accuracy: 0.7332\n",
      "Epoch 6/50\n",
      "103/103 [==============================] - 0s 2ms/step - loss: 0.7990 - accuracy: 0.7240\n",
      "Epoch 7/50\n",
      "103/103 [==============================] - 0s 2ms/step - loss: 0.5788 - accuracy: 0.7577\n",
      "Epoch 8/50\n",
      "103/103 [==============================] - 0s 2ms/step - loss: 0.7065 - accuracy: 0.7335\n",
      "Epoch 9/50\n",
      "103/103 [==============================] - 0s 2ms/step - loss: 0.6796 - accuracy: 0.7341\n",
      "Epoch 10/50\n",
      "103/103 [==============================] - 0s 2ms/step - loss: 0.6110 - accuracy: 0.7523\n",
      "Epoch 11/50\n",
      "103/103 [==============================] - 0s 2ms/step - loss: 0.8965 - accuracy: 0.7140\n",
      "Epoch 12/50\n",
      "103/103 [==============================] - 0s 2ms/step - loss: 0.6525 - accuracy: 0.7368\n",
      "Epoch 13/50\n",
      "103/103 [==============================] - 0s 2ms/step - loss: 0.8335 - accuracy: 0.7286\n",
      "Epoch 14/50\n",
      "103/103 [==============================] - 0s 2ms/step - loss: 0.6381 - accuracy: 0.7508\n",
      "Epoch 15/50\n",
      "103/103 [==============================] - 0s 2ms/step - loss: 0.6836 - accuracy: 0.7365\n",
      "Epoch 16/50\n",
      "103/103 [==============================] - 0s 2ms/step - loss: 0.8675 - accuracy: 0.7234\n",
      "Epoch 17/50\n",
      "103/103 [==============================] - 0s 2ms/step - loss: 0.7469 - accuracy: 0.7395\n",
      "Epoch 18/50\n",
      "103/103 [==============================] - 0s 2ms/step - loss: 0.6665 - accuracy: 0.7413\n",
      "Epoch 19/50\n",
      "103/103 [==============================] - 0s 2ms/step - loss: 0.6111 - accuracy: 0.7480\n",
      "Epoch 20/50\n",
      "103/103 [==============================] - 0s 2ms/step - loss: 0.5627 - accuracy: 0.7520\n",
      "Epoch 21/50\n",
      "103/103 [==============================] - 0s 2ms/step - loss: 0.6703 - accuracy: 0.7374\n",
      "Epoch 22/50\n",
      "103/103 [==============================] - 0s 2ms/step - loss: 0.7331 - accuracy: 0.7365\n",
      "Epoch 23/50\n",
      "103/103 [==============================] - 0s 2ms/step - loss: 0.5735 - accuracy: 0.7565\n",
      "Epoch 24/50\n",
      "103/103 [==============================] - 0s 2ms/step - loss: 0.7728 - accuracy: 0.7432\n",
      "Epoch 25/50\n",
      "103/103 [==============================] - 0s 2ms/step - loss: 0.7493 - accuracy: 0.7289\n",
      "Epoch 26/50\n",
      "103/103 [==============================] - 0s 2ms/step - loss: 0.5447 - accuracy: 0.7614\n",
      "Epoch 27/50\n",
      "103/103 [==============================] - 0s 2ms/step - loss: 0.5937 - accuracy: 0.7532\n",
      "Epoch 28/50\n",
      "103/103 [==============================] - 0s 2ms/step - loss: 0.7050 - accuracy: 0.7362\n",
      "Epoch 29/50\n",
      "103/103 [==============================] - 0s 2ms/step - loss: 0.6997 - accuracy: 0.7338\n",
      "Epoch 30/50\n",
      "103/103 [==============================] - 0s 2ms/step - loss: 0.6473 - accuracy: 0.7492\n",
      "Epoch 31/50\n",
      "103/103 [==============================] - 0s 2ms/step - loss: 0.8104 - accuracy: 0.7347\n",
      "Epoch 32/50\n",
      "103/103 [==============================] - 0s 2ms/step - loss: 0.6009 - accuracy: 0.7556\n",
      "Epoch 33/50\n",
      "103/103 [==============================] - 0s 2ms/step - loss: 0.5944 - accuracy: 0.7447\n",
      "Epoch 34/50\n",
      "103/103 [==============================] - 0s 2ms/step - loss: 0.6314 - accuracy: 0.7468\n",
      "Epoch 35/50\n",
      "103/103 [==============================] - 0s 2ms/step - loss: 0.6396 - accuracy: 0.7468\n",
      "Epoch 36/50\n",
      "103/103 [==============================] - 0s 2ms/step - loss: 0.7177 - accuracy: 0.7413\n",
      "Epoch 37/50\n",
      "103/103 [==============================] - 0s 2ms/step - loss: 0.5292 - accuracy: 0.7659\n",
      "Epoch 38/50\n",
      "103/103 [==============================] - 0s 2ms/step - loss: 0.8248 - accuracy: 0.7338\n",
      "Epoch 39/50\n",
      "103/103 [==============================] - 0s 2ms/step - loss: 0.6553 - accuracy: 0.7420\n",
      "Epoch 40/50\n",
      "103/103 [==============================] - 0s 2ms/step - loss: 0.6892 - accuracy: 0.7468\n",
      "Epoch 41/50\n",
      "103/103 [==============================] - 0s 2ms/step - loss: 0.6451 - accuracy: 0.7417\n",
      "Epoch 42/50\n",
      "103/103 [==============================] - 0s 2ms/step - loss: 0.6715 - accuracy: 0.7553\n",
      "Epoch 43/50\n",
      "103/103 [==============================] - 0s 2ms/step - loss: 0.6119 - accuracy: 0.7559\n",
      "Epoch 44/50\n",
      "103/103 [==============================] - 0s 2ms/step - loss: 0.6745 - accuracy: 0.7459\n",
      "Epoch 45/50\n",
      "103/103 [==============================] - 0s 2ms/step - loss: 0.6655 - accuracy: 0.7438\n",
      "Epoch 46/50\n",
      "103/103 [==============================] - 0s 2ms/step - loss: 0.6037 - accuracy: 0.7550\n",
      "Epoch 47/50\n",
      "103/103 [==============================] - 0s 2ms/step - loss: 0.6212 - accuracy: 0.7541\n",
      "Epoch 48/50\n",
      "103/103 [==============================] - 0s 2ms/step - loss: 0.6352 - accuracy: 0.7553\n",
      "Epoch 49/50\n",
      "103/103 [==============================] - 0s 2ms/step - loss: 0.6295 - accuracy: 0.7441\n",
      "Epoch 50/50\n",
      "103/103 [==============================] - 0s 2ms/step - loss: 0.7731 - accuracy: 0.7386\n",
      "44/44 [==============================] - 0s 1ms/step - loss: 0.5959 - accuracy: 0.6610\n",
      "[0.595948338508606, 0.6609808206558228]\n",
      "Classification Report: \n",
      "               precision    recall  f1-score   support\n",
      "\n",
      "           0       0.87      0.64      0.73      1033\n",
      "           1       0.42      0.73      0.53       374\n",
      "\n",
      "    accuracy                           0.66      1407\n",
      "   macro avg       0.64      0.68      0.63      1407\n",
      "weighted avg       0.75      0.66      0.68      1407\n",
      "\n"
     ]
    }
   ],
   "source": [
    "X_train, y_train = get_train_batch(df_churn_no, df_churn_yes, 3738, 5163)\n",
    "pred_values3 = ANN(X_train, y_train, X_test, y_test, 'binary_crossentropy', -1)"
   ]
  },
  {
   "cell_type": "code",
   "execution_count": 53,
   "id": "11db1725",
   "metadata": {},
   "outputs": [],
   "source": [
    "preds_final = []\n",
    "for index in range(len(pred_values1)):\n",
    "    churn_yes = pred_values1[index] + pred_values2[index] + pred_values3[index]\n",
    "    if churn_yes > 1:\n",
    "        preds_final.append(1)\n",
    "    else:\n",
    "        preds_final.append(0)"
   ]
  },
  {
   "cell_type": "code",
   "execution_count": 54,
   "id": "6bad8ba8",
   "metadata": {},
   "outputs": [
    {
     "name": "stdout",
     "output_type": "stream",
     "text": [
      "Classification Report: \n",
      "               precision    recall  f1-score   support\n",
      "\n",
      "           0       0.91      0.32      0.47      1033\n",
      "           1       0.33      0.91      0.48       374\n",
      "\n",
      "    accuracy                           0.47      1407\n",
      "   macro avg       0.62      0.61      0.47      1407\n",
      "weighted avg       0.75      0.47      0.47      1407\n",
      "\n"
     ]
    }
   ],
   "source": [
    "from sklearn.metrics import confusion_matrix , classification_report\n",
    "print(f\"Classification Report: \\n {classification_report(y_test,preds_final)}\")"
   ]
  },
  {
   "cell_type": "code",
   "execution_count": 55,
   "id": "76ad27e1",
   "metadata": {},
   "outputs": [
    {
     "data": {
      "text/plain": [
       "Text(70.72222222222221, 0.5, 'Actual')"
      ]
     },
     "execution_count": 55,
     "metadata": {},
     "output_type": "execute_result"
    },
    {
     "data": {
      "image/png": "[encoded data removed]",
      "text/plain": [
       "<Figure size 800x500 with 2 Axes>"
      ]
     },
     "metadata": {},
     "output_type": "display_data"
    }
   ],
   "source": [
    "import seaborn as sn\n",
    "cm = tf.math.confusion_matrix(labels=y_test,predictions=preds_final)\n",
    "plt.figure(figsize = (8,5))\n",
    "sn.heatmap(cm, annot = True, fmt='d')\n",
    "plt.xlabel('Predicted')\n",
    "plt.ylabel('Actual')"
   ]
  },
  {
   "cell_type": "code",
   "execution_count": null,
   "id": "438d0b00",
   "metadata": {},
   "outputs": [],
   "source": []
  }
 ],
 "metadata": {
  "kernelspec": {
   "display_name": "Python 3 (ipykernel)",
   "language": "python",
   "name": "python3"
  },
  "language_info": {
   "codemirror_mode": {
    "name": "ipython",
    "version": 3
   },
   "file_extension": ".py",
   "mimetype": "text/x-python",
   "name": "python",
   "nbconvert_exporter": "python",
   "pygments_lexer": "ipython3",
   "version": "3.8.3"
  }
 },
 "nbformat": 4,
 "nbformat_minor": 5
}
